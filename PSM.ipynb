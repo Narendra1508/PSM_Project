{
 "cells": [
  {
   "cell_type": "markdown",
   "metadata": {},
   "source": [
    "<h3>\n",
    "PSM Project: Statistical Modeling on Online Retail Dataset\n",
    "</h3>\n",
    "<h3 align=right> Name: Narendrakumar</h3>\n",
    "<h3 align=right> Date: 14/06/2020</h3>"
   ]
  },
  {
   "cell_type": "markdown",
   "metadata": {},
   "source": [
    "## Data Description\n",
    "\n",
    "**Source:**\n",
    "\n",
    "Dr Daqing Chen, Director: Public Analytics group. chend '@' lsbu.ac.uk, School of Engineering, London South Bank University, London SE1 0AA, UK.\n",
    "\n",
    "\n",
    "**Data Set Information:**\n",
    "\n",
    "This is a transnational data set which contains all the transactions occurring between 01/12/2010 and 09/12/2011 for a UK-based and registered non-store online retail.The company mainly sells unique all-occasion gifts. Many customers of the company are wholesalers.\n",
    "\n",
    "Attribute Information:\n",
    "\n",
    "- <u>InvoiceNo</u>: Invoice number. Nominal, a 6-digit integral number uniquely assigned to each transaction. If this code starts with letter 'c', it indicates a cancellation.\n",
    "\n",
    "- <u>StockCode</u>: Product (item) code. Nominal, a 5-digit integral number uniquely assigned to each distinct product.\n",
    "\n",
    "- <u>Description</u>: Product (item) name. Nominal.\n",
    "\n",
    "- <u>Quantity</u>: The quantities of each product (item) per transaction. Numeric.\n",
    "\n",
    "- <u>InvoiceDate</u>: Invice Date and time. Numeric, the day and time when each transaction was generated.\n",
    "\n",
    "- <u>UnitPrice</u>: Unit price. Numeric, Product price per unit in sterling.\n",
    "\n",
    "- <u>CustomerID</u>: Customer number. Nominal, a 5-digit integral number uniquely assigned to each customer.\n",
    "\n",
    "- <u>Country</u>: Country name. Nominal, the name of the country where each customer resides.\n"
   ]
  },
  {
   "cell_type": "code",
   "execution_count": 1,
   "metadata": {},
   "outputs": [
    {
     "name": "stderr",
     "output_type": "stream",
     "text": [
      "C:\\ProgramData\\Anaconda3\\lib\\site-packages\\statsmodels\\tools\\_testing.py:19: FutureWarning: pandas.util.testing is deprecated. Use the functions in the public API at pandas.testing instead.\n",
      "  import pandas.util.testing as tm\n"
     ]
    }
   ],
   "source": [
    "# For data downloading automation\n",
    "import os\n",
    "from six.moves import urllib\n",
    "\n",
    "import datetime\n",
    "\n",
    "# Import required Libraries for data hanadling\n",
    "import numpy as np\n",
    "import pandas as pd\n",
    "from prettytable import PrettyTable\n",
    "\n",
    "# For visualization\n",
    "import matplotlib.pyplot as plt\n",
    "%matplotlib inline\n",
    "import seaborn as sns\n",
    "sns.set_style(\"whitegrid\")\n",
    "\n",
    "import warnings\n",
    "warnings.filterwarnings('ignore')"
   ]
  },
  {
   "cell_type": "markdown",
   "metadata": {},
   "source": [
    "#### First component in your report: Motivate in your own words why you picked this dataset. Describe the data acquisition. Which steps did you have to take to download the data.\n",
    "\n",
    "This is a huge data set with systematically collected data of over 500000 observations. Dealing with such a large datset with exploratory data analysis would be very intersting. In this notebook, I'll clean the dataset and perform exploratory data analysis using prinicipals of statistical modelling.\n",
    "\n",
    "This dataset is extratced from the UCI Machine Learning Repository. It is a transactional data set which contains all the transactions of a UK based non-store online retail enterprise occurring between 2010-12-01 and 2011-12-09. The company primarily sells many kinds of gifts for all occasions. Most of the customers are wholersalers. \n",
    "\n",
    "I downloaded the data from UCI machine learning repository in .csv format.\n",
    "\n",
    "Our dataset consists of 8 features and 541909 observations."
   ]
  },
  {
   "cell_type": "code",
   "execution_count": null,
   "metadata": {},
   "outputs": [],
   "source": [
    "# script toautomatically download the data from the source server\n",
    "root = \"https://archive.ics.uci.edu/ml/machine-learning-databases/\"\n",
    "path = \"D:/OneDrive - Jacobs University/DS projects/PSM\"\n",
    "dataset_url = root + \"/00502/online_retail_II.xlsx\"\n",
    "\n",
    "def fetch_data(url=dataset_url, download_path=path):\n",
    "    os.makedirs(download_path, exist_ok=True)\n",
    "    file_destination = os.path.join(download_path, \"online_retail_II.xlsx\")\n",
    "    urllib.request.urlretrieve(url, file_destination)"
   ]
  },
  {
   "cell_type": "code",
   "execution_count": null,
   "metadata": {},
   "outputs": [],
   "source": [
    "fetch_data()"
   ]
  },
  {
   "cell_type": "markdown",
   "metadata": {},
   "source": [
    "#### Second component in your report: Describe the raw dataset in mathematical correct formalism (which is typically a product of several different sample spaces), define the universe in which the data has been taken, what are the RV functions, and the data value spaces S."
   ]
  },
  {
   "cell_type": "markdown",
   "metadata": {},
   "source": [
    "## Data Pre-processing"
   ]
  },
  {
   "cell_type": "markdown",
   "metadata": {},
   "source": [
    "#### Describe whether you had to clean the data, are there any missing values, how did you deal with missing values? Show excerpts of the raw data.\n",
    "\n",
    "First step is to read the dataset into a pandas dataframe and then take a first hand look the data.\n",
    "Then we shall investigate if the dataframe has any missing values and if there is any cleaning required."
   ]
  },
  {
   "cell_type": "code",
   "execution_count": 2,
   "metadata": {},
   "outputs": [
    {
     "data": {
      "text/plain": [
       "(541909, 7)"
      ]
     },
     "execution_count": 2,
     "metadata": {},
     "output_type": "execute_result"
    }
   ],
   "source": [
    "# Load the online retail datset into dataframe \n",
    "online_retail_df = pd.read_excel(\"Online Retail.xlsx\" , parse_dates=['InvoiceDate'], dtype={'CustomerID':str}, index_col='InvoiceDate')\n",
    "# Shape of the dataset\n",
    "online_retail_df.shape"
   ]
  },
  {
   "cell_type": "code",
   "execution_count": 3,
   "metadata": {},
   "outputs": [
    {
     "data": {
      "text/html": [
       "<div>\n",
       "<style scoped>\n",
       "    .dataframe tbody tr th:only-of-type {\n",
       "        vertical-align: middle;\n",
       "    }\n",
       "\n",
       "    .dataframe tbody tr th {\n",
       "        vertical-align: top;\n",
       "    }\n",
       "\n",
       "    .dataframe thead th {\n",
       "        text-align: right;\n",
       "    }\n",
       "</style>\n",
       "<table border=\"1\" class=\"dataframe\">\n",
       "  <thead>\n",
       "    <tr style=\"text-align: right;\">\n",
       "      <th></th>\n",
       "      <th>InvoiceNo</th>\n",
       "      <th>StockCode</th>\n",
       "      <th>Description</th>\n",
       "      <th>Quantity</th>\n",
       "      <th>UnitPrice</th>\n",
       "      <th>CustomerID</th>\n",
       "      <th>Country</th>\n",
       "    </tr>\n",
       "    <tr>\n",
       "      <th>InvoiceDate</th>\n",
       "      <th></th>\n",
       "      <th></th>\n",
       "      <th></th>\n",
       "      <th></th>\n",
       "      <th></th>\n",
       "      <th></th>\n",
       "      <th></th>\n",
       "    </tr>\n",
       "  </thead>\n",
       "  <tbody>\n",
       "    <tr>\n",
       "      <th>2011-07-20 11:55:00</th>\n",
       "      <td>560689</td>\n",
       "      <td>21215</td>\n",
       "      <td>IVORY PAPER CUP CAKE CASES</td>\n",
       "      <td>2</td>\n",
       "      <td>0.55</td>\n",
       "      <td>15039</td>\n",
       "      <td>United Kingdom</td>\n",
       "    </tr>\n",
       "    <tr>\n",
       "      <th>2011-07-19 13:01:00</th>\n",
       "      <td>560555</td>\n",
       "      <td>21179</td>\n",
       "      <td>NO JUNK MAIL METAL SIGN</td>\n",
       "      <td>1</td>\n",
       "      <td>0.39</td>\n",
       "      <td>14178</td>\n",
       "      <td>United Kingdom</td>\n",
       "    </tr>\n",
       "    <tr>\n",
       "      <th>2011-07-11 14:47:00</th>\n",
       "      <td>559680</td>\n",
       "      <td>22922</td>\n",
       "      <td>FRIDGE MAGNETS US DINER ASSORTED</td>\n",
       "      <td>12</td>\n",
       "      <td>0.85</td>\n",
       "      <td>12717</td>\n",
       "      <td>Greece</td>\n",
       "    </tr>\n",
       "    <tr>\n",
       "      <th>2011-11-02 08:44:00</th>\n",
       "      <td>573921</td>\n",
       "      <td>22920</td>\n",
       "      <td>HERB MARKER BASIL</td>\n",
       "      <td>12</td>\n",
       "      <td>0.65</td>\n",
       "      <td>16352</td>\n",
       "      <td>United Kingdom</td>\n",
       "    </tr>\n",
       "    <tr>\n",
       "      <th>2011-05-24 12:10:00</th>\n",
       "      <td>554415</td>\n",
       "      <td>84946</td>\n",
       "      <td>ANTIQUE SILVER T-LIGHT GLASS</td>\n",
       "      <td>24</td>\n",
       "      <td>1.25</td>\n",
       "      <td>18202</td>\n",
       "      <td>United Kingdom</td>\n",
       "    </tr>\n",
       "    <tr>\n",
       "      <th>2011-11-07 11:40:00</th>\n",
       "      <td>574839</td>\n",
       "      <td>22913</td>\n",
       "      <td>RED COAT RACK PARIS FASHION</td>\n",
       "      <td>1</td>\n",
       "      <td>4.95</td>\n",
       "      <td>15493</td>\n",
       "      <td>United Kingdom</td>\n",
       "    </tr>\n",
       "  </tbody>\n",
       "</table>\n",
       "</div>"
      ],
      "text/plain": [
       "                    InvoiceNo StockCode                       Description  \\\n",
       "InvoiceDate                                                                 \n",
       "2011-07-20 11:55:00    560689     21215       IVORY PAPER CUP CAKE CASES    \n",
       "2011-07-19 13:01:00    560555     21179           NO JUNK MAIL METAL SIGN   \n",
       "2011-07-11 14:47:00    559680     22922  FRIDGE MAGNETS US DINER ASSORTED   \n",
       "2011-11-02 08:44:00    573921     22920                 HERB MARKER BASIL   \n",
       "2011-05-24 12:10:00    554415     84946      ANTIQUE SILVER T-LIGHT GLASS   \n",
       "2011-11-07 11:40:00    574839     22913       RED COAT RACK PARIS FASHION   \n",
       "\n",
       "                     Quantity  UnitPrice CustomerID         Country  \n",
       "InvoiceDate                                                          \n",
       "2011-07-20 11:55:00         2       0.55      15039  United Kingdom  \n",
       "2011-07-19 13:01:00         1       0.39      14178  United Kingdom  \n",
       "2011-07-11 14:47:00        12       0.85      12717          Greece  \n",
       "2011-11-02 08:44:00        12       0.65      16352  United Kingdom  \n",
       "2011-05-24 12:10:00        24       1.25      18202  United Kingdom  \n",
       "2011-11-07 11:40:00         1       4.95      15493  United Kingdom  "
      ]
     },
     "execution_count": 3,
     "metadata": {},
     "output_type": "execute_result"
    }
   ],
   "source": [
    "# Look at a few random records from the datset\n",
    "online_retail_df.sample(6)"
   ]
  },
  {
   "cell_type": "code",
   "execution_count": 4,
   "metadata": {},
   "outputs": [
    {
     "name": "stdout",
     "output_type": "stream",
     "text": [
      "<class 'pandas.core.frame.DataFrame'>\n",
      "DatetimeIndex: 541909 entries, 2010-12-01 08:26:00 to 2011-12-09 12:50:00\n",
      "Data columns (total 7 columns):\n",
      " #   Column       Non-Null Count   Dtype  \n",
      "---  ------       --------------   -----  \n",
      " 0   InvoiceNo    541909 non-null  object \n",
      " 1   StockCode    541909 non-null  object \n",
      " 2   Description  540455 non-null  object \n",
      " 3   Quantity     541909 non-null  int64  \n",
      " 4   UnitPrice    541909 non-null  float64\n",
      " 5   CustomerID   406829 non-null  object \n",
      " 6   Country      541909 non-null  object \n",
      "dtypes: float64(1), int64(1), object(5)\n",
      "memory usage: 33.1+ MB\n"
     ]
    }
   ],
   "source": [
    "# get datatype information for each column\n",
    "online_retail_df.info()"
   ]
  },
  {
   "cell_type": "markdown",
   "metadata": {},
   "source": [
    "From this information, we can notice that there are missing values in the variables **Description** and **CustomerId**."
   ]
  },
  {
   "cell_type": "code",
   "execution_count": 5,
   "metadata": {},
   "outputs": [
    {
     "data": {
      "text/html": [
       "<div>\n",
       "<style scoped>\n",
       "    .dataframe tbody tr th:only-of-type {\n",
       "        vertical-align: middle;\n",
       "    }\n",
       "\n",
       "    .dataframe tbody tr th {\n",
       "        vertical-align: top;\n",
       "    }\n",
       "\n",
       "    .dataframe thead th {\n",
       "        text-align: right;\n",
       "    }\n",
       "</style>\n",
       "<table border=\"1\" class=\"dataframe\">\n",
       "  <thead>\n",
       "    <tr style=\"text-align: right;\">\n",
       "      <th></th>\n",
       "      <th>Quantity</th>\n",
       "      <th>UnitPrice</th>\n",
       "    </tr>\n",
       "  </thead>\n",
       "  <tbody>\n",
       "    <tr>\n",
       "      <th>count</th>\n",
       "      <td>541909.000000</td>\n",
       "      <td>541909.000000</td>\n",
       "    </tr>\n",
       "    <tr>\n",
       "      <th>mean</th>\n",
       "      <td>9.552250</td>\n",
       "      <td>4.611114</td>\n",
       "    </tr>\n",
       "    <tr>\n",
       "      <th>std</th>\n",
       "      <td>218.081158</td>\n",
       "      <td>96.759853</td>\n",
       "    </tr>\n",
       "    <tr>\n",
       "      <th>min</th>\n",
       "      <td>-80995.000000</td>\n",
       "      <td>-11062.060000</td>\n",
       "    </tr>\n",
       "    <tr>\n",
       "      <th>25%</th>\n",
       "      <td>1.000000</td>\n",
       "      <td>1.250000</td>\n",
       "    </tr>\n",
       "    <tr>\n",
       "      <th>50%</th>\n",
       "      <td>3.000000</td>\n",
       "      <td>2.080000</td>\n",
       "    </tr>\n",
       "    <tr>\n",
       "      <th>75%</th>\n",
       "      <td>10.000000</td>\n",
       "      <td>4.130000</td>\n",
       "    </tr>\n",
       "    <tr>\n",
       "      <th>max</th>\n",
       "      <td>80995.000000</td>\n",
       "      <td>38970.000000</td>\n",
       "    </tr>\n",
       "  </tbody>\n",
       "</table>\n",
       "</div>"
      ],
      "text/plain": [
       "            Quantity      UnitPrice\n",
       "count  541909.000000  541909.000000\n",
       "mean        9.552250       4.611114\n",
       "std       218.081158      96.759853\n",
       "min    -80995.000000  -11062.060000\n",
       "25%         1.000000       1.250000\n",
       "50%         3.000000       2.080000\n",
       "75%        10.000000       4.130000\n",
       "max     80995.000000   38970.000000"
      ]
     },
     "execution_count": 5,
     "metadata": {},
     "output_type": "execute_result"
    }
   ],
   "source": [
    "# Get an idea about the quantitative varaibles.\n",
    "online_retail_df.describe()"
   ]
  },
  {
   "cell_type": "code",
   "execution_count": 6,
   "metadata": {},
   "outputs": [
    {
     "data": {
      "text/html": [
       "<div>\n",
       "<style scoped>\n",
       "    .dataframe tbody tr th:only-of-type {\n",
       "        vertical-align: middle;\n",
       "    }\n",
       "\n",
       "    .dataframe tbody tr th {\n",
       "        vertical-align: top;\n",
       "    }\n",
       "\n",
       "    .dataframe thead th {\n",
       "        text-align: right;\n",
       "    }\n",
       "</style>\n",
       "<table border=\"1\" class=\"dataframe\">\n",
       "  <thead>\n",
       "    <tr style=\"text-align: right;\">\n",
       "      <th></th>\n",
       "      <th>InvoiceNo</th>\n",
       "      <th>StockCode</th>\n",
       "      <th>Description</th>\n",
       "      <th>CustomerID</th>\n",
       "      <th>Country</th>\n",
       "    </tr>\n",
       "  </thead>\n",
       "  <tbody>\n",
       "    <tr>\n",
       "      <th>count</th>\n",
       "      <td>541909</td>\n",
       "      <td>541909</td>\n",
       "      <td>540455</td>\n",
       "      <td>406829</td>\n",
       "      <td>541909</td>\n",
       "    </tr>\n",
       "    <tr>\n",
       "      <th>unique</th>\n",
       "      <td>25900</td>\n",
       "      <td>4070</td>\n",
       "      <td>4223</td>\n",
       "      <td>4372</td>\n",
       "      <td>38</td>\n",
       "    </tr>\n",
       "    <tr>\n",
       "      <th>top</th>\n",
       "      <td>573585</td>\n",
       "      <td>85123A</td>\n",
       "      <td>WHITE HANGING HEART T-LIGHT HOLDER</td>\n",
       "      <td>17841</td>\n",
       "      <td>United Kingdom</td>\n",
       "    </tr>\n",
       "    <tr>\n",
       "      <th>freq</th>\n",
       "      <td>1114</td>\n",
       "      <td>2313</td>\n",
       "      <td>2369</td>\n",
       "      <td>7983</td>\n",
       "      <td>495478</td>\n",
       "    </tr>\n",
       "  </tbody>\n",
       "</table>\n",
       "</div>"
      ],
      "text/plain": [
       "        InvoiceNo StockCode                         Description CustomerID  \\\n",
       "count      541909    541909                              540455     406829   \n",
       "unique      25900      4070                                4223       4372   \n",
       "top        573585    85123A  WHITE HANGING HEART T-LIGHT HOLDER      17841   \n",
       "freq         1114      2313                                2369       7983   \n",
       "\n",
       "               Country  \n",
       "count           541909  \n",
       "unique              38  \n",
       "top     United Kingdom  \n",
       "freq            495478  "
      ]
     },
     "execution_count": 6,
     "metadata": {},
     "output_type": "execute_result"
    }
   ],
   "source": [
    "# describe columns of categorical dtype\n",
    "online_retail_df.describe(include=[np.object])"
   ]
  },
  {
   "cell_type": "markdown",
   "metadata": {},
   "source": [
    "The first thing we can notice is that there are some negative values in the variable **Quantity** and **UnitPrice**. This can either mean that the products with these quantities (or corresponding UnitPrice values) was returned or cancelled.\n",
    "\n",
    "As mentioned in the description of the dataset, some InvoiceNo start with the letter \"c\", which refer to cancelled orders. Let's verify if this assumption is correct by taking an example of Quantity = -80995. Let's look for the cancelled invoices and check if there is an invoice with the Quantity = -80995."
   ]
  },
  {
   "cell_type": "code",
   "execution_count": 7,
   "metadata": {},
   "outputs": [
    {
     "data": {
      "text/html": [
       "<div>\n",
       "<style scoped>\n",
       "    .dataframe tbody tr th:only-of-type {\n",
       "        vertical-align: middle;\n",
       "    }\n",
       "\n",
       "    .dataframe tbody tr th {\n",
       "        vertical-align: top;\n",
       "    }\n",
       "\n",
       "    .dataframe thead th {\n",
       "        text-align: right;\n",
       "    }\n",
       "</style>\n",
       "<table border=\"1\" class=\"dataframe\">\n",
       "  <thead>\n",
       "    <tr style=\"text-align: right;\">\n",
       "      <th></th>\n",
       "      <th>InvoiceNo</th>\n",
       "      <th>StockCode</th>\n",
       "      <th>Description</th>\n",
       "      <th>Quantity</th>\n",
       "      <th>UnitPrice</th>\n",
       "      <th>CustomerID</th>\n",
       "      <th>Country</th>\n",
       "    </tr>\n",
       "    <tr>\n",
       "      <th>InvoiceDate</th>\n",
       "      <th></th>\n",
       "      <th></th>\n",
       "      <th></th>\n",
       "      <th></th>\n",
       "      <th></th>\n",
       "      <th></th>\n",
       "      <th></th>\n",
       "    </tr>\n",
       "  </thead>\n",
       "  <tbody>\n",
       "    <tr>\n",
       "      <th>2010-12-01 09:41:00</th>\n",
       "      <td>C536379</td>\n",
       "      <td>D</td>\n",
       "      <td>Discount</td>\n",
       "      <td>-1</td>\n",
       "      <td>27.50</td>\n",
       "      <td>14527</td>\n",
       "      <td>United Kingdom</td>\n",
       "    </tr>\n",
       "    <tr>\n",
       "      <th>2010-12-01 09:49:00</th>\n",
       "      <td>C536383</td>\n",
       "      <td>35004C</td>\n",
       "      <td>SET OF 3 COLOURED  FLYING DUCKS</td>\n",
       "      <td>-1</td>\n",
       "      <td>4.65</td>\n",
       "      <td>15311</td>\n",
       "      <td>United Kingdom</td>\n",
       "    </tr>\n",
       "    <tr>\n",
       "      <th>2010-12-01 10:24:00</th>\n",
       "      <td>C536391</td>\n",
       "      <td>22556</td>\n",
       "      <td>PLASTERS IN TIN CIRCUS PARADE</td>\n",
       "      <td>-12</td>\n",
       "      <td>1.65</td>\n",
       "      <td>17548</td>\n",
       "      <td>United Kingdom</td>\n",
       "    </tr>\n",
       "    <tr>\n",
       "      <th>2010-12-01 10:24:00</th>\n",
       "      <td>C536391</td>\n",
       "      <td>21984</td>\n",
       "      <td>PACK OF 12 PINK PAISLEY TISSUES</td>\n",
       "      <td>-24</td>\n",
       "      <td>0.29</td>\n",
       "      <td>17548</td>\n",
       "      <td>United Kingdom</td>\n",
       "    </tr>\n",
       "    <tr>\n",
       "      <th>2010-12-01 10:24:00</th>\n",
       "      <td>C536391</td>\n",
       "      <td>21983</td>\n",
       "      <td>PACK OF 12 BLUE PAISLEY TISSUES</td>\n",
       "      <td>-24</td>\n",
       "      <td>0.29</td>\n",
       "      <td>17548</td>\n",
       "      <td>United Kingdom</td>\n",
       "    </tr>\n",
       "  </tbody>\n",
       "</table>\n",
       "</div>"
      ],
      "text/plain": [
       "                    InvoiceNo StockCode                       Description  \\\n",
       "InvoiceDate                                                                 \n",
       "2010-12-01 09:41:00   C536379         D                          Discount   \n",
       "2010-12-01 09:49:00   C536383    35004C   SET OF 3 COLOURED  FLYING DUCKS   \n",
       "2010-12-01 10:24:00   C536391     22556    PLASTERS IN TIN CIRCUS PARADE    \n",
       "2010-12-01 10:24:00   C536391     21984  PACK OF 12 PINK PAISLEY TISSUES    \n",
       "2010-12-01 10:24:00   C536391     21983  PACK OF 12 BLUE PAISLEY TISSUES    \n",
       "\n",
       "                     Quantity  UnitPrice CustomerID         Country  \n",
       "InvoiceDate                                                          \n",
       "2010-12-01 09:41:00        -1      27.50      14527  United Kingdom  \n",
       "2010-12-01 09:49:00        -1       4.65      15311  United Kingdom  \n",
       "2010-12-01 10:24:00       -12       1.65      17548  United Kingdom  \n",
       "2010-12-01 10:24:00       -24       0.29      17548  United Kingdom  \n",
       "2010-12-01 10:24:00       -24       0.29      17548  United Kingdom  "
      ]
     },
     "execution_count": 7,
     "metadata": {},
     "output_type": "execute_result"
    }
   ],
   "source": [
    "# cancelled transactions\n",
    "cancelled_orders = online_retail_df[online_retail_df['InvoiceNo'].astype(str).str.startswith(\"C\", np.nan==False)]\n",
    "cancelled_orders.head()"
   ]
  },
  {
   "cell_type": "code",
   "execution_count": 8,
   "metadata": {},
   "outputs": [
    {
     "data": {
      "text/html": [
       "<div>\n",
       "<style scoped>\n",
       "    .dataframe tbody tr th:only-of-type {\n",
       "        vertical-align: middle;\n",
       "    }\n",
       "\n",
       "    .dataframe tbody tr th {\n",
       "        vertical-align: top;\n",
       "    }\n",
       "\n",
       "    .dataframe thead th {\n",
       "        text-align: right;\n",
       "    }\n",
       "</style>\n",
       "<table border=\"1\" class=\"dataframe\">\n",
       "  <thead>\n",
       "    <tr style=\"text-align: right;\">\n",
       "      <th></th>\n",
       "      <th>InvoiceNo</th>\n",
       "      <th>StockCode</th>\n",
       "      <th>Description</th>\n",
       "      <th>Quantity</th>\n",
       "      <th>UnitPrice</th>\n",
       "      <th>CustomerID</th>\n",
       "      <th>Country</th>\n",
       "    </tr>\n",
       "    <tr>\n",
       "      <th>InvoiceDate</th>\n",
       "      <th></th>\n",
       "      <th></th>\n",
       "      <th></th>\n",
       "      <th></th>\n",
       "      <th></th>\n",
       "      <th></th>\n",
       "      <th></th>\n",
       "    </tr>\n",
       "  </thead>\n",
       "  <tbody>\n",
       "    <tr>\n",
       "      <th>2011-12-09 09:27:00</th>\n",
       "      <td>C581484</td>\n",
       "      <td>23843</td>\n",
       "      <td>PAPER CRAFT , LITTLE BIRDIE</td>\n",
       "      <td>-80995</td>\n",
       "      <td>2.08</td>\n",
       "      <td>16446</td>\n",
       "      <td>United Kingdom</td>\n",
       "    </tr>\n",
       "  </tbody>\n",
       "</table>\n",
       "</div>"
      ],
      "text/plain": [
       "                    InvoiceNo StockCode                  Description  \\\n",
       "InvoiceDate                                                            \n",
       "2011-12-09 09:27:00   C581484     23843  PAPER CRAFT , LITTLE BIRDIE   \n",
       "\n",
       "                     Quantity  UnitPrice CustomerID         Country  \n",
       "InvoiceDate                                                          \n",
       "2011-12-09 09:27:00    -80995       2.08      16446  United Kingdom  "
      ]
     },
     "execution_count": 8,
     "metadata": {},
     "output_type": "execute_result"
    }
   ],
   "source": [
    "# Lookfor the record where Quantity=-80995\n",
    "cancelled_orders[cancelled_orders['Quantity']==-80995]"
   ]
  },
  {
   "cell_type": "code",
   "execution_count": 9,
   "metadata": {},
   "outputs": [
    {
     "data": {
      "text/html": [
       "<div>\n",
       "<style scoped>\n",
       "    .dataframe tbody tr th:only-of-type {\n",
       "        vertical-align: middle;\n",
       "    }\n",
       "\n",
       "    .dataframe tbody tr th {\n",
       "        vertical-align: top;\n",
       "    }\n",
       "\n",
       "    .dataframe thead th {\n",
       "        text-align: right;\n",
       "    }\n",
       "</style>\n",
       "<table border=\"1\" class=\"dataframe\">\n",
       "  <thead>\n",
       "    <tr style=\"text-align: right;\">\n",
       "      <th></th>\n",
       "      <th>InvoiceNo</th>\n",
       "      <th>StockCode</th>\n",
       "      <th>Description</th>\n",
       "      <th>Quantity</th>\n",
       "      <th>UnitPrice</th>\n",
       "      <th>CustomerID</th>\n",
       "      <th>Country</th>\n",
       "    </tr>\n",
       "    <tr>\n",
       "      <th>InvoiceDate</th>\n",
       "      <th></th>\n",
       "      <th></th>\n",
       "      <th></th>\n",
       "      <th></th>\n",
       "      <th></th>\n",
       "      <th></th>\n",
       "      <th></th>\n",
       "    </tr>\n",
       "  </thead>\n",
       "  <tbody>\n",
       "  </tbody>\n",
       "</table>\n",
       "</div>"
      ],
      "text/plain": [
       "Empty DataFrame\n",
       "Columns: [InvoiceNo, StockCode, Description, Quantity, UnitPrice, CustomerID, Country]\n",
       "Index: []"
      ]
     },
     "execution_count": 9,
     "metadata": {},
     "output_type": "execute_result"
    }
   ],
   "source": [
    "cancelled_orders[cancelled_orders['Quantity']>0]"
   ]
  },
  {
   "cell_type": "markdown",
   "metadata": {},
   "source": [
    "From the above analysis it is evident that the records with negative quantity corresponds to cancelled orders, because there are no orders with positive quantity where the InvoiceNo has the prefix 'C'. The most interesting aspect of this revelation is we can discard the cancelled orders, because these orders should not be added to the total revenue. However, these records can be separately analysed to understand how many orders were cancelled. Or many other questions related to cancelled orders.\n",
    "\n",
    "In our case, we will go ahead and remove these records from the dataframe."
   ]
  },
  {
   "cell_type": "code",
   "execution_count": 10,
   "metadata": {},
   "outputs": [
    {
     "name": "stdout",
     "output_type": "stream",
     "text": [
      "Total number of cancelled orders: 9288\n"
     ]
    }
   ],
   "source": [
    "# cancelled orders\n",
    "cancelled_orders = online_retail_df[\"InvoiceNo\"].str.startswith(\"C\", np.nan==False).sum()\n",
    "print(\"Total number of cancelled orders: {}\".format(cancelled_orders))\n",
    "\n",
    "# #percentage of cancelled orders in total orders\n",
    "# total_orders = online_retail_df['InvoiceNo'].nunique()\n",
    "# print('Percentage of cancelled orders: {}/{} ({:.2f}%) '.format(cancelled_orders, total_orders, cancelled_orders/total_orders*100))"
   ]
  },
  {
   "cell_type": "code",
   "execution_count": 11,
   "metadata": {},
   "outputs": [
    {
     "name": "stdout",
     "output_type": "stream",
     "text": [
      "Removed all 9288 cancelled transactions from the dataframe\n"
     ]
    }
   ],
   "source": [
    "# removing all 9288 cancelled trascations.\n",
    "online_retail_df = online_retail_df[~online_retail_df[\"InvoiceNo\"].str.startswith(\"C\", np.nan==False)]\n",
    "print(\"Removed all {} cancelled transactions from the dataframe\".format(cancelled_orders))"
   ]
  },
  {
   "cell_type": "code",
   "execution_count": 12,
   "metadata": {
    "scrolled": true
   },
   "outputs": [
    {
     "data": {
      "text/html": [
       "<div>\n",
       "<style scoped>\n",
       "    .dataframe tbody tr th:only-of-type {\n",
       "        vertical-align: middle;\n",
       "    }\n",
       "\n",
       "    .dataframe tbody tr th {\n",
       "        vertical-align: top;\n",
       "    }\n",
       "\n",
       "    .dataframe thead th {\n",
       "        text-align: right;\n",
       "    }\n",
       "</style>\n",
       "<table border=\"1\" class=\"dataframe\">\n",
       "  <thead>\n",
       "    <tr style=\"text-align: right;\">\n",
       "      <th></th>\n",
       "      <th>InvoiceNo</th>\n",
       "      <th>StockCode</th>\n",
       "      <th>Description</th>\n",
       "      <th>Quantity</th>\n",
       "      <th>UnitPrice</th>\n",
       "      <th>CustomerID</th>\n",
       "      <th>Country</th>\n",
       "    </tr>\n",
       "    <tr>\n",
       "      <th>InvoiceDate</th>\n",
       "      <th></th>\n",
       "      <th></th>\n",
       "      <th></th>\n",
       "      <th></th>\n",
       "      <th></th>\n",
       "      <th></th>\n",
       "      <th></th>\n",
       "    </tr>\n",
       "  </thead>\n",
       "  <tbody>\n",
       "    <tr>\n",
       "      <th>2010-12-01 11:52:00</th>\n",
       "      <td>536414</td>\n",
       "      <td>22139</td>\n",
       "      <td>NaN</td>\n",
       "      <td>56</td>\n",
       "      <td>0.0</td>\n",
       "      <td>NaN</td>\n",
       "      <td>United Kingdom</td>\n",
       "    </tr>\n",
       "    <tr>\n",
       "      <th>2010-12-01 14:32:00</th>\n",
       "      <td>536545</td>\n",
       "      <td>21134</td>\n",
       "      <td>NaN</td>\n",
       "      <td>1</td>\n",
       "      <td>0.0</td>\n",
       "      <td>NaN</td>\n",
       "      <td>United Kingdom</td>\n",
       "    </tr>\n",
       "    <tr>\n",
       "      <th>2010-12-01 14:33:00</th>\n",
       "      <td>536546</td>\n",
       "      <td>22145</td>\n",
       "      <td>NaN</td>\n",
       "      <td>1</td>\n",
       "      <td>0.0</td>\n",
       "      <td>NaN</td>\n",
       "      <td>United Kingdom</td>\n",
       "    </tr>\n",
       "    <tr>\n",
       "      <th>2010-12-01 14:33:00</th>\n",
       "      <td>536547</td>\n",
       "      <td>37509</td>\n",
       "      <td>NaN</td>\n",
       "      <td>1</td>\n",
       "      <td>0.0</td>\n",
       "      <td>NaN</td>\n",
       "      <td>United Kingdom</td>\n",
       "    </tr>\n",
       "    <tr>\n",
       "      <th>2010-12-01 14:34:00</th>\n",
       "      <td>536549</td>\n",
       "      <td>85226A</td>\n",
       "      <td>NaN</td>\n",
       "      <td>1</td>\n",
       "      <td>0.0</td>\n",
       "      <td>NaN</td>\n",
       "      <td>United Kingdom</td>\n",
       "    </tr>\n",
       "  </tbody>\n",
       "</table>\n",
       "</div>"
      ],
      "text/plain": [
       "                    InvoiceNo StockCode Description  Quantity  UnitPrice  \\\n",
       "InvoiceDate                                                                \n",
       "2010-12-01 11:52:00    536414     22139         NaN        56        0.0   \n",
       "2010-12-01 14:32:00    536545     21134         NaN         1        0.0   \n",
       "2010-12-01 14:33:00    536546     22145         NaN         1        0.0   \n",
       "2010-12-01 14:33:00    536547     37509         NaN         1        0.0   \n",
       "2010-12-01 14:34:00    536549    85226A         NaN         1        0.0   \n",
       "\n",
       "                    CustomerID         Country  \n",
       "InvoiceDate                                     \n",
       "2010-12-01 11:52:00        NaN  United Kingdom  \n",
       "2010-12-01 14:32:00        NaN  United Kingdom  \n",
       "2010-12-01 14:33:00        NaN  United Kingdom  \n",
       "2010-12-01 14:33:00        NaN  United Kingdom  \n",
       "2010-12-01 14:34:00        NaN  United Kingdom  "
      ]
     },
     "execution_count": 12,
     "metadata": {},
     "output_type": "execute_result"
    }
   ],
   "source": [
    "# check if there are any more trasactions with negative UnitPrice or negative Quantity\n",
    "online_retail_df.loc[(online_retail_df['UnitPrice']==0) | (online_retail_df['Quantity']<=0)].head()"
   ]
  },
  {
   "cell_type": "code",
   "execution_count": 13,
   "metadata": {},
   "outputs": [
    {
     "data": {
      "text/html": [
       "<div>\n",
       "<style scoped>\n",
       "    .dataframe tbody tr th:only-of-type {\n",
       "        vertical-align: middle;\n",
       "    }\n",
       "\n",
       "    .dataframe tbody tr th {\n",
       "        vertical-align: top;\n",
       "    }\n",
       "\n",
       "    .dataframe thead th {\n",
       "        text-align: right;\n",
       "    }\n",
       "</style>\n",
       "<table border=\"1\" class=\"dataframe\">\n",
       "  <thead>\n",
       "    <tr style=\"text-align: right;\">\n",
       "      <th></th>\n",
       "      <th>InvoiceNo</th>\n",
       "      <th>StockCode</th>\n",
       "      <th>Description</th>\n",
       "      <th>Quantity</th>\n",
       "      <th>UnitPrice</th>\n",
       "      <th>CustomerID</th>\n",
       "      <th>Country</th>\n",
       "    </tr>\n",
       "    <tr>\n",
       "      <th>InvoiceDate</th>\n",
       "      <th></th>\n",
       "      <th></th>\n",
       "      <th></th>\n",
       "      <th></th>\n",
       "      <th></th>\n",
       "      <th></th>\n",
       "      <th></th>\n",
       "    </tr>\n",
       "  </thead>\n",
       "  <tbody>\n",
       "  </tbody>\n",
       "</table>\n",
       "</div>"
      ],
      "text/plain": [
       "Empty DataFrame\n",
       "Columns: [InvoiceNo, StockCode, Description, Quantity, UnitPrice, CustomerID, Country]\n",
       "Index: []"
      ]
     },
     "execution_count": 13,
     "metadata": {},
     "output_type": "execute_result"
    }
   ],
   "source": [
    "# explore the records with Quantity==0\n",
    "online_retail_df.loc[(online_retail_df['Quantity']==0)].head()"
   ]
  },
  {
   "cell_type": "code",
   "execution_count": 14,
   "metadata": {},
   "outputs": [
    {
     "data": {
      "text/html": [
       "<div>\n",
       "<style scoped>\n",
       "    .dataframe tbody tr th:only-of-type {\n",
       "        vertical-align: middle;\n",
       "    }\n",
       "\n",
       "    .dataframe tbody tr th {\n",
       "        vertical-align: top;\n",
       "    }\n",
       "\n",
       "    .dataframe thead th {\n",
       "        text-align: right;\n",
       "    }\n",
       "</style>\n",
       "<table border=\"1\" class=\"dataframe\">\n",
       "  <thead>\n",
       "    <tr style=\"text-align: right;\">\n",
       "      <th></th>\n",
       "      <th>InvoiceNo</th>\n",
       "      <th>StockCode</th>\n",
       "      <th>Description</th>\n",
       "      <th>Quantity</th>\n",
       "      <th>UnitPrice</th>\n",
       "      <th>CustomerID</th>\n",
       "      <th>Country</th>\n",
       "    </tr>\n",
       "    <tr>\n",
       "      <th>InvoiceDate</th>\n",
       "      <th></th>\n",
       "      <th></th>\n",
       "      <th></th>\n",
       "      <th></th>\n",
       "      <th></th>\n",
       "      <th></th>\n",
       "      <th></th>\n",
       "    </tr>\n",
       "  </thead>\n",
       "  <tbody>\n",
       "    <tr>\n",
       "      <th>2011-08-12 14:51:00</th>\n",
       "      <td>A563186</td>\n",
       "      <td>B</td>\n",
       "      <td>Adjust bad debt</td>\n",
       "      <td>1</td>\n",
       "      <td>-11062.06</td>\n",
       "      <td>NaN</td>\n",
       "      <td>United Kingdom</td>\n",
       "    </tr>\n",
       "    <tr>\n",
       "      <th>2011-08-12 14:52:00</th>\n",
       "      <td>A563187</td>\n",
       "      <td>B</td>\n",
       "      <td>Adjust bad debt</td>\n",
       "      <td>1</td>\n",
       "      <td>-11062.06</td>\n",
       "      <td>NaN</td>\n",
       "      <td>United Kingdom</td>\n",
       "    </tr>\n",
       "  </tbody>\n",
       "</table>\n",
       "</div>"
      ],
      "text/plain": [
       "                    InvoiceNo StockCode      Description  Quantity  UnitPrice  \\\n",
       "InvoiceDate                                                                     \n",
       "2011-08-12 14:51:00   A563186         B  Adjust bad debt         1  -11062.06   \n",
       "2011-08-12 14:52:00   A563187         B  Adjust bad debt         1  -11062.06   \n",
       "\n",
       "                    CustomerID         Country  \n",
       "InvoiceDate                                     \n",
       "2011-08-12 14:51:00        NaN  United Kingdom  \n",
       "2011-08-12 14:52:00        NaN  United Kingdom  "
      ]
     },
     "execution_count": 14,
     "metadata": {},
     "output_type": "execute_result"
    }
   ],
   "source": [
    "# explore the records with UnitPrice<0\n",
    "online_retail_df.loc[(online_retail_df['UnitPrice']<0)].head()"
   ]
  },
  {
   "cell_type": "code",
   "execution_count": 15,
   "metadata": {},
   "outputs": [
    {
     "data": {
      "text/html": [
       "<div>\n",
       "<style scoped>\n",
       "    .dataframe tbody tr th:only-of-type {\n",
       "        vertical-align: middle;\n",
       "    }\n",
       "\n",
       "    .dataframe tbody tr th {\n",
       "        vertical-align: top;\n",
       "    }\n",
       "\n",
       "    .dataframe thead th {\n",
       "        text-align: right;\n",
       "    }\n",
       "</style>\n",
       "<table border=\"1\" class=\"dataframe\">\n",
       "  <thead>\n",
       "    <tr style=\"text-align: right;\">\n",
       "      <th></th>\n",
       "      <th>InvoiceNo</th>\n",
       "      <th>StockCode</th>\n",
       "      <th>Description</th>\n",
       "      <th>Quantity</th>\n",
       "      <th>UnitPrice</th>\n",
       "      <th>CustomerID</th>\n",
       "      <th>Country</th>\n",
       "    </tr>\n",
       "    <tr>\n",
       "      <th>InvoiceDate</th>\n",
       "      <th></th>\n",
       "      <th></th>\n",
       "      <th></th>\n",
       "      <th></th>\n",
       "      <th></th>\n",
       "      <th></th>\n",
       "      <th></th>\n",
       "    </tr>\n",
       "  </thead>\n",
       "  <tbody>\n",
       "    <tr>\n",
       "      <th>2011-08-12 14:51:00</th>\n",
       "      <td>A563186</td>\n",
       "      <td>B</td>\n",
       "      <td>Adjust bad debt</td>\n",
       "      <td>1</td>\n",
       "      <td>-11062.06</td>\n",
       "      <td>NaN</td>\n",
       "      <td>United Kingdom</td>\n",
       "    </tr>\n",
       "    <tr>\n",
       "      <th>2011-08-12 14:52:00</th>\n",
       "      <td>A563187</td>\n",
       "      <td>B</td>\n",
       "      <td>Adjust bad debt</td>\n",
       "      <td>1</td>\n",
       "      <td>-11062.06</td>\n",
       "      <td>NaN</td>\n",
       "      <td>United Kingdom</td>\n",
       "    </tr>\n",
       "  </tbody>\n",
       "</table>\n",
       "</div>"
      ],
      "text/plain": [
       "                    InvoiceNo StockCode      Description  Quantity  UnitPrice  \\\n",
       "InvoiceDate                                                                     \n",
       "2011-08-12 14:51:00   A563186         B  Adjust bad debt         1  -11062.06   \n",
       "2011-08-12 14:52:00   A563187         B  Adjust bad debt         1  -11062.06   \n",
       "\n",
       "                    CustomerID         Country  \n",
       "InvoiceDate                                     \n",
       "2011-08-12 14:51:00        NaN  United Kingdom  \n",
       "2011-08-12 14:52:00        NaN  United Kingdom  "
      ]
     },
     "execution_count": 15,
     "metadata": {},
     "output_type": "execute_result"
    }
   ],
   "source": [
    "online_retail_df.loc[(online_retail_df['InvoiceNo']=='A563186') | (online_retail_df['InvoiceNo']=='A563187')]"
   ]
  },
  {
   "cell_type": "markdown",
   "metadata": {},
   "source": [
    "Even after removing the cancelled orders, there are many transactions with negative or zero UnitPirces and negative Quantity. What do these transactions signify and Can we discard them?\n",
    "\n",
    "There are 2 records with negative UnitPrices and their corresponding InvoiceNo are unique and hence we can conclude that, they are not reversal transactions. From the description, we can assume that, they are just adjustment codes.\n",
    "\n",
    "Now, for the records with UnitPrice==0, the quantities associated with them is negative. Even though, I would prefer to check this scenario with the Data Provider, in this case it is safe to assume that the records negative quantities and zero UnitPrices do not contribute the Revenue (because total price for these transactions would be 0). Therefore, we can discard these records from the dataset for our analysis."
   ]
  },
  {
   "cell_type": "code",
   "execution_count": 16,
   "metadata": {},
   "outputs": [
    {
     "name": "stdout",
     "output_type": "stream",
     "text": [
      "Total number of records with UnitPrice=0: 2517\n"
     ]
    }
   ],
   "source": [
    "# transactions with UnitPrice==0\n",
    "zero_up = online_retail_df[(online_retail_df['UnitPrice']<=0)]['UnitPrice'].count()\n",
    "print(\"Total number of records with UnitPrice=0: {}\".format(zero_up))"
   ]
  },
  {
   "cell_type": "code",
   "execution_count": 17,
   "metadata": {},
   "outputs": [
    {
     "name": "stdout",
     "output_type": "stream",
     "text": [
      "Removed all 2517 trascations with UnitPrice=0\n"
     ]
    }
   ],
   "source": [
    "# removing all 2517 trascations with UnitPrice=0.\n",
    "online_retail_df = online_retail_df[(online_retail_df['UnitPrice']>0)]\n",
    "print(\"Removed all {} trascations with UnitPrice=0\".format(zero_up))"
   ]
  },
  {
   "cell_type": "markdown",
   "metadata": {},
   "source": [
    "### Outlier Detection"
   ]
  },
  {
   "cell_type": "code",
   "execution_count": 18,
   "metadata": {},
   "outputs": [
    {
     "data": {
      "text/html": [
       "<div>\n",
       "<style scoped>\n",
       "    .dataframe tbody tr th:only-of-type {\n",
       "        vertical-align: middle;\n",
       "    }\n",
       "\n",
       "    .dataframe tbody tr th {\n",
       "        vertical-align: top;\n",
       "    }\n",
       "\n",
       "    .dataframe thead th {\n",
       "        text-align: right;\n",
       "    }\n",
       "</style>\n",
       "<table border=\"1\" class=\"dataframe\">\n",
       "  <thead>\n",
       "    <tr style=\"text-align: right;\">\n",
       "      <th></th>\n",
       "      <th>Quantity</th>\n",
       "      <th>UnitPrice</th>\n",
       "    </tr>\n",
       "  </thead>\n",
       "  <tbody>\n",
       "    <tr>\n",
       "      <th>count</th>\n",
       "      <td>530104.000000</td>\n",
       "      <td>530104.000000</td>\n",
       "    </tr>\n",
       "    <tr>\n",
       "      <th>mean</th>\n",
       "      <td>10.542037</td>\n",
       "      <td>3.907625</td>\n",
       "    </tr>\n",
       "    <tr>\n",
       "      <th>std</th>\n",
       "      <td>155.524124</td>\n",
       "      <td>35.915681</td>\n",
       "    </tr>\n",
       "    <tr>\n",
       "      <th>min</th>\n",
       "      <td>1.000000</td>\n",
       "      <td>0.001000</td>\n",
       "    </tr>\n",
       "    <tr>\n",
       "      <th>25%</th>\n",
       "      <td>1.000000</td>\n",
       "      <td>1.250000</td>\n",
       "    </tr>\n",
       "    <tr>\n",
       "      <th>50%</th>\n",
       "      <td>3.000000</td>\n",
       "      <td>2.080000</td>\n",
       "    </tr>\n",
       "    <tr>\n",
       "      <th>75%</th>\n",
       "      <td>10.000000</td>\n",
       "      <td>4.130000</td>\n",
       "    </tr>\n",
       "    <tr>\n",
       "      <th>max</th>\n",
       "      <td>80995.000000</td>\n",
       "      <td>13541.330000</td>\n",
       "    </tr>\n",
       "  </tbody>\n",
       "</table>\n",
       "</div>"
      ],
      "text/plain": [
       "            Quantity      UnitPrice\n",
       "count  530104.000000  530104.000000\n",
       "mean       10.542037       3.907625\n",
       "std       155.524124      35.915681\n",
       "min         1.000000       0.001000\n",
       "25%         1.000000       1.250000\n",
       "50%         3.000000       2.080000\n",
       "75%        10.000000       4.130000\n",
       "max     80995.000000   13541.330000"
      ]
     },
     "execution_count": 18,
     "metadata": {},
     "output_type": "execute_result"
    }
   ],
   "source": [
    "online_retail_df.describe()"
   ]
  },
  {
   "cell_type": "code",
   "execution_count": 19,
   "metadata": {},
   "outputs": [
    {
     "data": {
      "image/png": "[encoded data removed]",
      "text/plain": [
       "<Figure size 1152x576 with 1 Axes>"
      ]
     },
     "metadata": {
      "needs_background": "light"
     },
     "output_type": "display_data"
    }
   ],
   "source": [
    "fig, axes = plt.subplots(figsize=(16, 8))\n",
    "sns.distplot(online_retail_df['UnitPrice'], ax=axes)\n",
    "# sns.boxplot(online_retail_df['TotalPrice'],orient='v', ax=axes[1])\n",
    "# sns.distplot(np.log10(online_retail_df['TotalPrice']), ax=axes[1])\n",
    "fig.suptitle(\"Distribution of UnitPrice of products\")\n",
    "plt.show(fig)"
   ]
  },
  {
   "cell_type": "markdown",
   "metadata": {},
   "source": [
    "The above positively skewed distribution of UnitPrice clearly implies that there are some outlier in high ranges greater than 10 sterlings. It will be intersting to look at the customers who purchased the products with high prices. For now we shall see the IQR statistics of the variable 'UnitPrice' too identify and seperate te outliers from the data."
   ]
  },
  {
   "cell_type": "code",
   "execution_count": 20,
   "metadata": {},
   "outputs": [
    {
     "name": "stdout",
     "output_type": "stream",
     "text": [
      "+------------+-------+\n",
      "| Statistic  | Value |\n",
      "+------------+-------+\n",
      "|    Min     |   1   |\n",
      "|     Q1     |  1.0  |\n",
      "|     Q2     |  3.0  |\n",
      "|     Q3     |  10.0 |\n",
      "|    Max     | 80995 |\n",
      "|    IQR     |  9.0  |\n",
      "| Lowerbound |  -8.0 |\n",
      "| Upperbound |  10.0 |\n",
      "+------------+-------+\n"
     ]
    }
   ],
   "source": [
    "# Computing IQR\n",
    "Min = online_retail_df['Quantity'].min()\n",
    "Q1 = online_retail_df['Quantity'].quantile(0.25)\n",
    "Q2 = online_retail_df['Quantity'].quantile(0.50)\n",
    "Q3 = online_retail_df['Quantity'].quantile(0.75)\n",
    "Max = online_retail_df['Quantity'].max()\n",
    "IQR = Q3 - Q1\n",
    "Lowerbound = Q1 - 1 * IQR\n",
    "Upperbound = Q1 + 1 * IQR\n",
    "\n",
    "IQR_list = [['Min', Min], ['Q1', Q1],['Q2', Q2],['Q3', Q3], ['Max', Max], \n",
    "            ['IQR', IQR], ['Lowerbound', Lowerbound], ['Upperbound', Upperbound]]\n",
    "\n",
    "QuantityTable = PrettyTable(['Statistic', 'Value'])\n",
    "\n",
    "for stat in IQR_list:\n",
    "    QuantityTable.add_row(stat)\n",
    "    \n",
    "print(QuantityTable)"
   ]
  },
  {
   "cell_type": "code",
   "execution_count": 21,
   "metadata": {},
   "outputs": [
    {
     "name": "stdout",
     "output_type": "stream",
     "text": [
      "+------------+----------+\n",
      "| Statistic  |  Value   |\n",
      "+------------+----------+\n",
      "|    Min     |  0.001   |\n",
      "|     Q1     |   1.25   |\n",
      "|     Q2     |   2.08   |\n",
      "|     Q3     |   4.13   |\n",
      "|    Max     | 13541.33 |\n",
      "|    IQR     |   2.88   |\n",
      "| Lowerbound |  -1.63   |\n",
      "| Upperbound |   4.13   |\n",
      "+------------+----------+\n"
     ]
    }
   ],
   "source": [
    "# Computing IQR\n",
    "Min = online_retail_df['UnitPrice'].min()\n",
    "Q1 = online_retail_df['UnitPrice'].quantile(0.25)\n",
    "Q2 = online_retail_df['UnitPrice'].quantile(0.50)\n",
    "Q3 = online_retail_df['UnitPrice'].quantile(0.75)\n",
    "Max = online_retail_df['UnitPrice'].max()\n",
    "IQR = Q3 - Q1\n",
    "Lowerbound = Q1 - 1 * IQR\n",
    "Upperbound = Q1 + 1 * IQR\n",
    "\n",
    "IQR_list = [['Min', Min], ['Q1', Q1],['Q2', Q2],['Q3', Q3], ['Max', Max], \n",
    "            ['IQR', IQR], ['Lowerbound', Lowerbound], ['Upperbound', Upperbound]]\n",
    "\n",
    "UnitPriceTable = PrettyTable(['Statistic', 'Value'])\n",
    "\n",
    "for stat in IQR_list:\n",
    "    UnitPriceTable.add_row(stat)\n",
    "    \n",
    "print(UnitPriceTable)"
   ]
  },
  {
   "cell_type": "code",
   "execution_count": 22,
   "metadata": {},
   "outputs": [
    {
     "name": "stdout",
     "output_type": "stream",
     "text": [
      "Skewness : 206.087555\n",
      "Kurtosis : 62483.142715\n",
      "Skewness : 471.727716\n",
      "Kurtosis : 236462.342826\n"
     ]
    }
   ],
   "source": [
    "# Skewness and Kurtosis\n",
    "print(\"Skewness : %f\" % online_retail_df['UnitPrice'].skew())\n",
    "print(\"Kurtosis : %f\" % online_retail_df['UnitPrice'].kurt())\n",
    "# Skewness and Kurtosis\n",
    "print(\"Skewness : %f\" % online_retail_df['Quantity'].skew())\n",
    "print(\"Kurtosis : %f\" % online_retail_df['Quantity'].kurt())"
   ]
  },
  {
   "cell_type": "code",
   "execution_count": 23,
   "metadata": {},
   "outputs": [
    {
     "name": "stdout",
     "output_type": "stream",
     "text": [
      "Transactions with products whose Unit Prices are greater than 5 Sterlings is 39.67%\n"
     ]
    }
   ],
   "source": [
    "outlier_stocks = online_retail_df[online_retail_df['UnitPrice']>5.0]['StockCode'].nunique()\n",
    "print(\"Transactions with products whose Unit Prices are greater than 5 Sterlings is {:.2%}\".format(outlier_stocks / online_retail_df['StockCode'].nunique()))"
   ]
  },
  {
   "cell_type": "code",
   "execution_count": 24,
   "metadata": {},
   "outputs": [
    {
     "name": "stdout",
     "output_type": "stream",
     "text": [
      "Removed all 1556 trascations with UnitPrice>5\n"
     ]
    }
   ],
   "source": [
    "# removing outlier trascations with UnitPrice>15.\n",
    "online_retail_df = online_retail_df[(online_retail_df['UnitPrice']<5)]\n",
    "print(\"Removed all {} trascations with UnitPrice>5\".format(outlier_stocks))"
   ]
  },
  {
   "cell_type": "code",
   "execution_count": 25,
   "metadata": {},
   "outputs": [
    {
     "name": "stdout",
     "output_type": "stream",
     "text": [
      "Transactions with quantites greater than 10 units is 20.81%\n"
     ]
    }
   ],
   "source": [
    "outlier_quantites = online_retail_df[online_retail_df['Quantity']>50.0]['InvoiceNo'].nunique()\n",
    "print(\"Transactions with quantites greater than 10 units is {:.2%}\".format(outlier_quantites / online_retail_df['InvoiceNo'].nunique()))"
   ]
  },
  {
   "cell_type": "code",
   "execution_count": 26,
   "metadata": {},
   "outputs": [
    {
     "name": "stdout",
     "output_type": "stream",
     "text": [
      "Removed all 1556 trascations with Quantity>50\n"
     ]
    }
   ],
   "source": [
    "# removing outlier trascations with UnitPrice>15.\n",
    "online_retail_df = online_retail_df[(online_retail_df['Quantity']<50)]\n",
    "print(\"Removed all {} trascations with Quantity>50\".format(outlier_stocks))"
   ]
  },
  {
   "cell_type": "markdown",
   "metadata": {},
   "source": [
    "As we can see from the statistics, the Maximum value of the UnitPrice is way beyond the upperboud of 4.13. This means prices of most of the prodcuts is below 5 sterlings. The products with UnitPrices beyond upperbound can be considered as Outliers. It can be observed that only 8.54% of the all transactions are having Unit Prices greater than 15 Sterlings which is almost 4 times the value of upperbound. On that account, we can remove the transactions with these Products, as they disturb the overall distribution which in turn may impact the analysis. However, these products can be analysed seperately."
   ]
  },
  {
   "cell_type": "markdown",
   "metadata": {},
   "source": [
    "As we had seen earlier, there were missing values in variables **Description** and **CustomerId**.\n",
    "\n",
    "**Description** --> 135080\n",
    "\n",
    "**CustomerId** --> 1454\n",
    "\n",
    "Now let us see if these values still exist after removing the records with cancelled inovoices and zero unit prices."
   ]
  },
  {
   "cell_type": "code",
   "execution_count": 27,
   "metadata": {
    "scrolled": true
   },
   "outputs": [
    {
     "data": {
      "text/html": [
       "<div>\n",
       "<style scoped>\n",
       "    .dataframe tbody tr th:only-of-type {\n",
       "        vertical-align: middle;\n",
       "    }\n",
       "\n",
       "    .dataframe tbody tr th {\n",
       "        vertical-align: top;\n",
       "    }\n",
       "\n",
       "    .dataframe thead th {\n",
       "        text-align: right;\n",
       "    }\n",
       "</style>\n",
       "<table border=\"1\" class=\"dataframe\">\n",
       "  <thead>\n",
       "    <tr style=\"text-align: right;\">\n",
       "      <th></th>\n",
       "      <th>column_name</th>\n",
       "      <th>values</th>\n",
       "      <th>values_count_incna</th>\n",
       "      <th>values_count_nona</th>\n",
       "      <th>miss_num</th>\n",
       "      <th>miss_pct</th>\n",
       "    </tr>\n",
       "  </thead>\n",
       "  <tbody>\n",
       "    <tr>\n",
       "      <th>0</th>\n",
       "      <td>CustomerID</td>\n",
       "      <td>[17850, 13047, 12583, 15291, 14688, 17809, 153...</td>\n",
       "      <td>4211</td>\n",
       "      <td>4210</td>\n",
       "      <td>97298</td>\n",
       "      <td>22.537919</td>\n",
       "    </tr>\n",
       "    <tr>\n",
       "      <th>0</th>\n",
       "      <td>InvoiceNo</td>\n",
       "      <td>[536365, 536366, 536367, 536368, 536370, 53637...</td>\n",
       "      <td>18423</td>\n",
       "      <td>18423</td>\n",
       "      <td>0</td>\n",
       "      <td>0.000000</td>\n",
       "    </tr>\n",
       "    <tr>\n",
       "      <th>0</th>\n",
       "      <td>Description</td>\n",
       "      <td>[WHITE HANGING HEART T-LIGHT HOLDER, WHITE MET...</td>\n",
       "      <td>3514</td>\n",
       "      <td>3514</td>\n",
       "      <td>0</td>\n",
       "      <td>0.000000</td>\n",
       "    </tr>\n",
       "    <tr>\n",
       "      <th>0</th>\n",
       "      <td>StockCode</td>\n",
       "      <td>[85123A, 71053, 84406B, 84029G, 84029E, 21730,...</td>\n",
       "      <td>3402</td>\n",
       "      <td>3402</td>\n",
       "      <td>0</td>\n",
       "      <td>0.000000</td>\n",
       "    </tr>\n",
       "    <tr>\n",
       "      <th>0</th>\n",
       "      <td>UnitPrice</td>\n",
       "      <td>[2.55, 3.39, 2.75, 4.25, 1.85, 1.69, 2.1, 3.75...</td>\n",
       "      <td>221</td>\n",
       "      <td>221</td>\n",
       "      <td>0</td>\n",
       "      <td>0.000000</td>\n",
       "    </tr>\n",
       "    <tr>\n",
       "      <th>0</th>\n",
       "      <td>Quantity</td>\n",
       "      <td>[6, 8, 32, 3, 24, 12, 48, 18, 20, 36, 2, 10, 2...</td>\n",
       "      <td>49</td>\n",
       "      <td>49</td>\n",
       "      <td>0</td>\n",
       "      <td>0.000000</td>\n",
       "    </tr>\n",
       "    <tr>\n",
       "      <th>0</th>\n",
       "      <td>Country</td>\n",
       "      <td>[United Kingdom, France, Australia, Germany, N...</td>\n",
       "      <td>38</td>\n",
       "      <td>38</td>\n",
       "      <td>0</td>\n",
       "      <td>0.000000</td>\n",
       "    </tr>\n",
       "  </tbody>\n",
       "</table>\n",
       "</div>"
      ],
      "text/plain": [
       "   column_name                                             values  \\\n",
       "0   CustomerID  [17850, 13047, 12583, 15291, 14688, 17809, 153...   \n",
       "0    InvoiceNo  [536365, 536366, 536367, 536368, 536370, 53637...   \n",
       "0  Description  [WHITE HANGING HEART T-LIGHT HOLDER, WHITE MET...   \n",
       "0    StockCode  [85123A, 71053, 84406B, 84029G, 84029E, 21730,...   \n",
       "0    UnitPrice  [2.55, 3.39, 2.75, 4.25, 1.85, 1.69, 2.1, 3.75...   \n",
       "0     Quantity  [6, 8, 32, 3, 24, 12, 48, 18, 20, 36, 2, 10, 2...   \n",
       "0      Country  [United Kingdom, France, Australia, Germany, N...   \n",
       "\n",
       "  values_count_incna values_count_nona miss_num   miss_pct  \n",
       "0               4211              4210    97298  22.537919  \n",
       "0              18423             18423        0   0.000000  \n",
       "0               3514              3514        0   0.000000  \n",
       "0               3402              3402        0   0.000000  \n",
       "0                221               221        0   0.000000  \n",
       "0                 49                49        0   0.000000  \n",
       "0                 38                38        0   0.000000  "
      ]
     },
     "execution_count": 27,
     "metadata": {},
     "output_type": "execute_result"
    }
   ],
   "source": [
    "#checking for missing values\n",
    "data_stats = pd.DataFrame(columns=['column_name','values','values_count_incna',\n",
    "                                   'values_count_nona','miss_num','miss_pct'])\n",
    "tmp = pd.DataFrame()\n",
    "\n",
    "for c in online_retail_df.columns:\n",
    "    tmp['column_name'] = [c]\n",
    "    tmp['values'] = [online_retail_df[c].unique()]\n",
    "    tmp['values_count_incna'] = len(online_retail_df[c].unique())\n",
    "    tmp['values_count_nona'] = (online_retail_df[c].nunique())\n",
    "    tmp['miss_num'] = online_retail_df[c].isnull().sum()\n",
    "    tmp['miss_pct'] = (online_retail_df[c].isnull().sum() / len(online_retail_df)) *100\n",
    "    data_stats = data_stats.append(tmp)\n",
    "data_stats.sort_values(by = 'values_count_incna',ascending=False,inplace=True)\n",
    "data_stats.sort_values(by = 'miss_pct',ascending=False)"
   ]
  },
  {
   "cell_type": "markdown",
   "metadata": {},
   "source": [
    "While addressing the above cancelled orders issue, the records where the Description variable had missing values are also eliminated. Now we should handle the missing values in the variable CustomerID. We know that, CustomerID is a 5 digit unique integer assigned to each Customer. Therefore, we can assign a default ID to all those missing values. This approach of retaining the records by assigning default value instead of eliminating them, can help us analysing the overall revenue.\n",
    "\n",
    "Let us Impute the missing CustomerIDs with default value of '99999'"
   ]
  },
  {
   "cell_type": "code",
   "execution_count": 28,
   "metadata": {},
   "outputs": [
    {
     "data": {
      "text/html": [
       "<div>\n",
       "<style scoped>\n",
       "    .dataframe tbody tr th:only-of-type {\n",
       "        vertical-align: middle;\n",
       "    }\n",
       "\n",
       "    .dataframe tbody tr th {\n",
       "        vertical-align: top;\n",
       "    }\n",
       "\n",
       "    .dataframe thead th {\n",
       "        text-align: right;\n",
       "    }\n",
       "</style>\n",
       "<table border=\"1\" class=\"dataframe\">\n",
       "  <thead>\n",
       "    <tr style=\"text-align: right;\">\n",
       "      <th></th>\n",
       "      <th>InvoiceNo</th>\n",
       "      <th>StockCode</th>\n",
       "      <th>Description</th>\n",
       "      <th>Quantity</th>\n",
       "      <th>UnitPrice</th>\n",
       "      <th>CustomerID</th>\n",
       "      <th>Country</th>\n",
       "    </tr>\n",
       "    <tr>\n",
       "      <th>InvoiceDate</th>\n",
       "      <th></th>\n",
       "      <th></th>\n",
       "      <th></th>\n",
       "      <th></th>\n",
       "      <th></th>\n",
       "      <th></th>\n",
       "      <th></th>\n",
       "    </tr>\n",
       "  </thead>\n",
       "  <tbody>\n",
       "    <tr>\n",
       "      <th>2010-12-01 14:32:00</th>\n",
       "      <td>536544</td>\n",
       "      <td>21773</td>\n",
       "      <td>DECORATIVE ROSE BATHROOM BOTTLE</td>\n",
       "      <td>1</td>\n",
       "      <td>2.51</td>\n",
       "      <td>NaN</td>\n",
       "      <td>United Kingdom</td>\n",
       "    </tr>\n",
       "    <tr>\n",
       "      <th>2010-12-01 14:32:00</th>\n",
       "      <td>536544</td>\n",
       "      <td>21774</td>\n",
       "      <td>DECORATIVE CATS BATHROOM BOTTLE</td>\n",
       "      <td>2</td>\n",
       "      <td>2.51</td>\n",
       "      <td>NaN</td>\n",
       "      <td>United Kingdom</td>\n",
       "    </tr>\n",
       "    <tr>\n",
       "      <th>2010-12-01 14:32:00</th>\n",
       "      <td>536544</td>\n",
       "      <td>21786</td>\n",
       "      <td>POLKADOT RAIN HAT</td>\n",
       "      <td>4</td>\n",
       "      <td>0.85</td>\n",
       "      <td>NaN</td>\n",
       "      <td>United Kingdom</td>\n",
       "    </tr>\n",
       "    <tr>\n",
       "      <th>2010-12-01 14:32:00</th>\n",
       "      <td>536544</td>\n",
       "      <td>21787</td>\n",
       "      <td>RAIN PONCHO RETROSPOT</td>\n",
       "      <td>2</td>\n",
       "      <td>1.66</td>\n",
       "      <td>NaN</td>\n",
       "      <td>United Kingdom</td>\n",
       "    </tr>\n",
       "    <tr>\n",
       "      <th>2010-12-01 14:32:00</th>\n",
       "      <td>536544</td>\n",
       "      <td>21790</td>\n",
       "      <td>VINTAGE SNAP CARDS</td>\n",
       "      <td>9</td>\n",
       "      <td>1.66</td>\n",
       "      <td>NaN</td>\n",
       "      <td>United Kingdom</td>\n",
       "    </tr>\n",
       "  </tbody>\n",
       "</table>\n",
       "</div>"
      ],
      "text/plain": [
       "                    InvoiceNo StockCode                      Description  \\\n",
       "InvoiceDate                                                                \n",
       "2010-12-01 14:32:00    536544     21773  DECORATIVE ROSE BATHROOM BOTTLE   \n",
       "2010-12-01 14:32:00    536544     21774  DECORATIVE CATS BATHROOM BOTTLE   \n",
       "2010-12-01 14:32:00    536544     21786               POLKADOT RAIN HAT    \n",
       "2010-12-01 14:32:00    536544     21787            RAIN PONCHO RETROSPOT   \n",
       "2010-12-01 14:32:00    536544     21790               VINTAGE SNAP CARDS   \n",
       "\n",
       "                     Quantity  UnitPrice CustomerID         Country  \n",
       "InvoiceDate                                                          \n",
       "2010-12-01 14:32:00         1       2.51        NaN  United Kingdom  \n",
       "2010-12-01 14:32:00         2       2.51        NaN  United Kingdom  \n",
       "2010-12-01 14:32:00         4       0.85        NaN  United Kingdom  \n",
       "2010-12-01 14:32:00         2       1.66        NaN  United Kingdom  \n",
       "2010-12-01 14:32:00         9       1.66        NaN  United Kingdom  "
      ]
     },
     "execution_count": 28,
     "metadata": {},
     "output_type": "execute_result"
    }
   ],
   "source": [
    "online_retail_df[online_retail_df['CustomerID'].isna()].head()"
   ]
  },
  {
   "cell_type": "code",
   "execution_count": 29,
   "metadata": {},
   "outputs": [],
   "source": [
    "# assign '99999' as the default CustomerID for missing IDs\n",
    "online_retail_df['CustomerID'][online_retail_df['CustomerID'].isna()] = '99999'"
   ]
  },
  {
   "cell_type": "code",
   "execution_count": 30,
   "metadata": {},
   "outputs": [
    {
     "data": {
      "text/html": [
       "<div>\n",
       "<style scoped>\n",
       "    .dataframe tbody tr th:only-of-type {\n",
       "        vertical-align: middle;\n",
       "    }\n",
       "\n",
       "    .dataframe tbody tr th {\n",
       "        vertical-align: top;\n",
       "    }\n",
       "\n",
       "    .dataframe thead th {\n",
       "        text-align: right;\n",
       "    }\n",
       "</style>\n",
       "<table border=\"1\" class=\"dataframe\">\n",
       "  <thead>\n",
       "    <tr style=\"text-align: right;\">\n",
       "      <th></th>\n",
       "      <th>InvoiceNo</th>\n",
       "      <th>StockCode</th>\n",
       "      <th>Description</th>\n",
       "      <th>Quantity</th>\n",
       "      <th>UnitPrice</th>\n",
       "      <th>CustomerID</th>\n",
       "      <th>Country</th>\n",
       "    </tr>\n",
       "    <tr>\n",
       "      <th>InvoiceDate</th>\n",
       "      <th></th>\n",
       "      <th></th>\n",
       "      <th></th>\n",
       "      <th></th>\n",
       "      <th></th>\n",
       "      <th></th>\n",
       "      <th></th>\n",
       "    </tr>\n",
       "  </thead>\n",
       "  <tbody>\n",
       "    <tr>\n",
       "      <th>2010-12-01 14:32:00</th>\n",
       "      <td>536544</td>\n",
       "      <td>21773</td>\n",
       "      <td>DECORATIVE ROSE BATHROOM BOTTLE</td>\n",
       "      <td>1</td>\n",
       "      <td>2.51</td>\n",
       "      <td>99999</td>\n",
       "      <td>United Kingdom</td>\n",
       "    </tr>\n",
       "    <tr>\n",
       "      <th>2010-12-01 14:32:00</th>\n",
       "      <td>536544</td>\n",
       "      <td>21774</td>\n",
       "      <td>DECORATIVE CATS BATHROOM BOTTLE</td>\n",
       "      <td>2</td>\n",
       "      <td>2.51</td>\n",
       "      <td>99999</td>\n",
       "      <td>United Kingdom</td>\n",
       "    </tr>\n",
       "    <tr>\n",
       "      <th>2010-12-01 14:32:00</th>\n",
       "      <td>536544</td>\n",
       "      <td>21786</td>\n",
       "      <td>POLKADOT RAIN HAT</td>\n",
       "      <td>4</td>\n",
       "      <td>0.85</td>\n",
       "      <td>99999</td>\n",
       "      <td>United Kingdom</td>\n",
       "    </tr>\n",
       "    <tr>\n",
       "      <th>2010-12-01 14:32:00</th>\n",
       "      <td>536544</td>\n",
       "      <td>21787</td>\n",
       "      <td>RAIN PONCHO RETROSPOT</td>\n",
       "      <td>2</td>\n",
       "      <td>1.66</td>\n",
       "      <td>99999</td>\n",
       "      <td>United Kingdom</td>\n",
       "    </tr>\n",
       "    <tr>\n",
       "      <th>2010-12-01 14:32:00</th>\n",
       "      <td>536544</td>\n",
       "      <td>21790</td>\n",
       "      <td>VINTAGE SNAP CARDS</td>\n",
       "      <td>9</td>\n",
       "      <td>1.66</td>\n",
       "      <td>99999</td>\n",
       "      <td>United Kingdom</td>\n",
       "    </tr>\n",
       "    <tr>\n",
       "      <th>...</th>\n",
       "      <td>...</td>\n",
       "      <td>...</td>\n",
       "      <td>...</td>\n",
       "      <td>...</td>\n",
       "      <td>...</td>\n",
       "      <td>...</td>\n",
       "      <td>...</td>\n",
       "    </tr>\n",
       "    <tr>\n",
       "      <th>2011-12-09 10:26:00</th>\n",
       "      <td>581498</td>\n",
       "      <td>85049a</td>\n",
       "      <td>TRADITIONAL CHRISTMAS RIBBONS</td>\n",
       "      <td>5</td>\n",
       "      <td>3.29</td>\n",
       "      <td>99999</td>\n",
       "      <td>United Kingdom</td>\n",
       "    </tr>\n",
       "    <tr>\n",
       "      <th>2011-12-09 10:26:00</th>\n",
       "      <td>581498</td>\n",
       "      <td>85049e</td>\n",
       "      <td>SCANDINAVIAN REDS RIBBONS</td>\n",
       "      <td>4</td>\n",
       "      <td>3.29</td>\n",
       "      <td>99999</td>\n",
       "      <td>United Kingdom</td>\n",
       "    </tr>\n",
       "    <tr>\n",
       "      <th>2011-12-09 10:26:00</th>\n",
       "      <td>581498</td>\n",
       "      <td>85099B</td>\n",
       "      <td>JUMBO BAG RED RETROSPOT</td>\n",
       "      <td>5</td>\n",
       "      <td>4.13</td>\n",
       "      <td>99999</td>\n",
       "      <td>United Kingdom</td>\n",
       "    </tr>\n",
       "    <tr>\n",
       "      <th>2011-12-09 10:26:00</th>\n",
       "      <td>581498</td>\n",
       "      <td>85099C</td>\n",
       "      <td>JUMBO  BAG BAROQUE BLACK WHITE</td>\n",
       "      <td>4</td>\n",
       "      <td>4.13</td>\n",
       "      <td>99999</td>\n",
       "      <td>United Kingdom</td>\n",
       "    </tr>\n",
       "    <tr>\n",
       "      <th>2011-12-09 10:26:00</th>\n",
       "      <td>581498</td>\n",
       "      <td>85150</td>\n",
       "      <td>LADIES &amp; GENTLEMEN METAL SIGN</td>\n",
       "      <td>1</td>\n",
       "      <td>4.96</td>\n",
       "      <td>99999</td>\n",
       "      <td>United Kingdom</td>\n",
       "    </tr>\n",
       "  </tbody>\n",
       "</table>\n",
       "<p>97298 rows × 7 columns</p>\n",
       "</div>"
      ],
      "text/plain": [
       "                    InvoiceNo StockCode                      Description  \\\n",
       "InvoiceDate                                                                \n",
       "2010-12-01 14:32:00    536544     21773  DECORATIVE ROSE BATHROOM BOTTLE   \n",
       "2010-12-01 14:32:00    536544     21774  DECORATIVE CATS BATHROOM BOTTLE   \n",
       "2010-12-01 14:32:00    536544     21786               POLKADOT RAIN HAT    \n",
       "2010-12-01 14:32:00    536544     21787            RAIN PONCHO RETROSPOT   \n",
       "2010-12-01 14:32:00    536544     21790               VINTAGE SNAP CARDS   \n",
       "...                       ...       ...                              ...   \n",
       "2011-12-09 10:26:00    581498    85049a    TRADITIONAL CHRISTMAS RIBBONS   \n",
       "2011-12-09 10:26:00    581498    85049e        SCANDINAVIAN REDS RIBBONS   \n",
       "2011-12-09 10:26:00    581498    85099B          JUMBO BAG RED RETROSPOT   \n",
       "2011-12-09 10:26:00    581498    85099C   JUMBO  BAG BAROQUE BLACK WHITE   \n",
       "2011-12-09 10:26:00    581498     85150    LADIES & GENTLEMEN METAL SIGN   \n",
       "\n",
       "                     Quantity  UnitPrice CustomerID         Country  \n",
       "InvoiceDate                                                          \n",
       "2010-12-01 14:32:00         1       2.51      99999  United Kingdom  \n",
       "2010-12-01 14:32:00         2       2.51      99999  United Kingdom  \n",
       "2010-12-01 14:32:00         4       0.85      99999  United Kingdom  \n",
       "2010-12-01 14:32:00         2       1.66      99999  United Kingdom  \n",
       "2010-12-01 14:32:00         9       1.66      99999  United Kingdom  \n",
       "...                       ...        ...        ...             ...  \n",
       "2011-12-09 10:26:00         5       3.29      99999  United Kingdom  \n",
       "2011-12-09 10:26:00         4       3.29      99999  United Kingdom  \n",
       "2011-12-09 10:26:00         5       4.13      99999  United Kingdom  \n",
       "2011-12-09 10:26:00         4       4.13      99999  United Kingdom  \n",
       "2011-12-09 10:26:00         1       4.96      99999  United Kingdom  \n",
       "\n",
       "[97298 rows x 7 columns]"
      ]
     },
     "execution_count": 30,
     "metadata": {},
     "output_type": "execute_result"
    }
   ],
   "source": [
    "online_retail_df[online_retail_df['CustomerID']=='99999']"
   ]
  },
  {
   "cell_type": "code",
   "execution_count": 31,
   "metadata": {
    "scrolled": false
   },
   "outputs": [
    {
     "data": {
      "text/html": [
       "<div>\n",
       "<style scoped>\n",
       "    .dataframe tbody tr th:only-of-type {\n",
       "        vertical-align: middle;\n",
       "    }\n",
       "\n",
       "    .dataframe tbody tr th {\n",
       "        vertical-align: top;\n",
       "    }\n",
       "\n",
       "    .dataframe thead th {\n",
       "        text-align: right;\n",
       "    }\n",
       "</style>\n",
       "<table border=\"1\" class=\"dataframe\">\n",
       "  <thead>\n",
       "    <tr style=\"text-align: right;\">\n",
       "      <th></th>\n",
       "      <th>column_name</th>\n",
       "      <th>values</th>\n",
       "      <th>values_count_incna</th>\n",
       "      <th>values_count_nona</th>\n",
       "      <th>miss_num</th>\n",
       "      <th>miss_pct</th>\n",
       "    </tr>\n",
       "  </thead>\n",
       "  <tbody>\n",
       "    <tr>\n",
       "      <th>0</th>\n",
       "      <td>InvoiceNo</td>\n",
       "      <td>[536365, 536366, 536367, 536368, 536370, 53637...</td>\n",
       "      <td>18423</td>\n",
       "      <td>18423</td>\n",
       "      <td>0</td>\n",
       "      <td>0.0</td>\n",
       "    </tr>\n",
       "    <tr>\n",
       "      <th>0</th>\n",
       "      <td>CustomerID</td>\n",
       "      <td>[17850, 13047, 12583, 15291, 14688, 17809, 153...</td>\n",
       "      <td>4211</td>\n",
       "      <td>4211</td>\n",
       "      <td>0</td>\n",
       "      <td>0.0</td>\n",
       "    </tr>\n",
       "    <tr>\n",
       "      <th>0</th>\n",
       "      <td>Description</td>\n",
       "      <td>[WHITE HANGING HEART T-LIGHT HOLDER, WHITE MET...</td>\n",
       "      <td>3514</td>\n",
       "      <td>3514</td>\n",
       "      <td>0</td>\n",
       "      <td>0.0</td>\n",
       "    </tr>\n",
       "    <tr>\n",
       "      <th>0</th>\n",
       "      <td>StockCode</td>\n",
       "      <td>[85123A, 71053, 84406B, 84029G, 84029E, 21730,...</td>\n",
       "      <td>3402</td>\n",
       "      <td>3402</td>\n",
       "      <td>0</td>\n",
       "      <td>0.0</td>\n",
       "    </tr>\n",
       "    <tr>\n",
       "      <th>0</th>\n",
       "      <td>UnitPrice</td>\n",
       "      <td>[2.55, 3.39, 2.75, 4.25, 1.85, 1.69, 2.1, 3.75...</td>\n",
       "      <td>221</td>\n",
       "      <td>221</td>\n",
       "      <td>0</td>\n",
       "      <td>0.0</td>\n",
       "    </tr>\n",
       "    <tr>\n",
       "      <th>0</th>\n",
       "      <td>Quantity</td>\n",
       "      <td>[6, 8, 32, 3, 24, 12, 48, 18, 20, 36, 2, 10, 2...</td>\n",
       "      <td>49</td>\n",
       "      <td>49</td>\n",
       "      <td>0</td>\n",
       "      <td>0.0</td>\n",
       "    </tr>\n",
       "    <tr>\n",
       "      <th>0</th>\n",
       "      <td>Country</td>\n",
       "      <td>[United Kingdom, France, Australia, Germany, N...</td>\n",
       "      <td>38</td>\n",
       "      <td>38</td>\n",
       "      <td>0</td>\n",
       "      <td>0.0</td>\n",
       "    </tr>\n",
       "  </tbody>\n",
       "</table>\n",
       "</div>"
      ],
      "text/plain": [
       "   column_name                                             values  \\\n",
       "0    InvoiceNo  [536365, 536366, 536367, 536368, 536370, 53637...   \n",
       "0   CustomerID  [17850, 13047, 12583, 15291, 14688, 17809, 153...   \n",
       "0  Description  [WHITE HANGING HEART T-LIGHT HOLDER, WHITE MET...   \n",
       "0    StockCode  [85123A, 71053, 84406B, 84029G, 84029E, 21730,...   \n",
       "0    UnitPrice  [2.55, 3.39, 2.75, 4.25, 1.85, 1.69, 2.1, 3.75...   \n",
       "0     Quantity  [6, 8, 32, 3, 24, 12, 48, 18, 20, 36, 2, 10, 2...   \n",
       "0      Country  [United Kingdom, France, Australia, Germany, N...   \n",
       "\n",
       "  values_count_incna values_count_nona miss_num  miss_pct  \n",
       "0              18423             18423        0       0.0  \n",
       "0               4211              4211        0       0.0  \n",
       "0               3514              3514        0       0.0  \n",
       "0               3402              3402        0       0.0  \n",
       "0                221               221        0       0.0  \n",
       "0                 49                49        0       0.0  \n",
       "0                 38                38        0       0.0  "
      ]
     },
     "execution_count": 31,
     "metadata": {},
     "output_type": "execute_result"
    }
   ],
   "source": [
    "#checking for missing values again after removing few unwanted transactions\n",
    "data_stats = pd.DataFrame(columns=['column_name','values','values_count_incna',\n",
    "                                   'values_count_nona','miss_num','miss_pct'])\n",
    "tmp = pd.DataFrame()\n",
    "\n",
    "for c in online_retail_df.columns:\n",
    "    tmp['column_name'] = [c]\n",
    "    tmp['values'] = [online_retail_df[c].unique()]\n",
    "    tmp['values_count_incna'] = len(online_retail_df[c].unique())\n",
    "    tmp['values_count_nona'] = (online_retail_df[c].nunique())\n",
    "    tmp['miss_num'] = online_retail_df[c].isnull().sum()\n",
    "    tmp['miss_pct'] = (online_retail_df[c].isnull().sum() / len(online_retail_df)) *100\n",
    "    data_stats = data_stats.append(tmp)\n",
    "data_stats.sort_values(by = 'values_count_incna',ascending=False,inplace=True)\n",
    "data_stats.sort_values(by = 'miss_pct',ascending=False)"
   ]
  },
  {
   "cell_type": "markdown",
   "metadata": {},
   "source": [
    "Now there are no missing values. The dataset is also pretty much cleaned. It is now time to introduce a new feature 'TotalPrice' to the dataset which is derived from the existing features UnitPrice * Quantity.\n",
    "\n",
    "And also we have to parse the Invoice Date column into Date and Time sepeartely, so it helps us to do the time series analysis easier."
   ]
  },
  {
   "cell_type": "code",
   "execution_count": 32,
   "metadata": {},
   "outputs": [],
   "source": [
    "online_retail_df['FullDate'] = pd.to_datetime(online_retail_df.index)"
   ]
  },
  {
   "cell_type": "code",
   "execution_count": 33,
   "metadata": {},
   "outputs": [],
   "source": [
    "# creating new feature total_price = unit price * quantity.\n",
    "online_retail_df[\"TotalPrice\"] = online_retail_df[\"UnitPrice\"] * online_retail_df['Quantity']"
   ]
  },
  {
   "cell_type": "code",
   "execution_count": 34,
   "metadata": {
    "scrolled": true
   },
   "outputs": [
    {
     "data": {
      "text/html": [
       "<div>\n",
       "<style scoped>\n",
       "    .dataframe tbody tr th:only-of-type {\n",
       "        vertical-align: middle;\n",
       "    }\n",
       "\n",
       "    .dataframe tbody tr th {\n",
       "        vertical-align: top;\n",
       "    }\n",
       "\n",
       "    .dataframe thead th {\n",
       "        text-align: right;\n",
       "    }\n",
       "</style>\n",
       "<table border=\"1\" class=\"dataframe\">\n",
       "  <thead>\n",
       "    <tr style=\"text-align: right;\">\n",
       "      <th></th>\n",
       "      <th>InvoiceNo</th>\n",
       "      <th>StockCode</th>\n",
       "      <th>Description</th>\n",
       "      <th>Quantity</th>\n",
       "      <th>UnitPrice</th>\n",
       "      <th>CustomerID</th>\n",
       "      <th>Country</th>\n",
       "      <th>FullDate</th>\n",
       "      <th>TotalPrice</th>\n",
       "    </tr>\n",
       "    <tr>\n",
       "      <th>InvoiceDate</th>\n",
       "      <th></th>\n",
       "      <th></th>\n",
       "      <th></th>\n",
       "      <th></th>\n",
       "      <th></th>\n",
       "      <th></th>\n",
       "      <th></th>\n",
       "      <th></th>\n",
       "      <th></th>\n",
       "    </tr>\n",
       "  </thead>\n",
       "  <tbody>\n",
       "    <tr>\n",
       "      <th>2010-12-01 08:26:00</th>\n",
       "      <td>536365</td>\n",
       "      <td>85123A</td>\n",
       "      <td>WHITE HANGING HEART T-LIGHT HOLDER</td>\n",
       "      <td>6</td>\n",
       "      <td>2.55</td>\n",
       "      <td>17850</td>\n",
       "      <td>United Kingdom</td>\n",
       "      <td>2010-12-01 08:26:00</td>\n",
       "      <td>15.30</td>\n",
       "    </tr>\n",
       "    <tr>\n",
       "      <th>2010-12-01 08:26:00</th>\n",
       "      <td>536365</td>\n",
       "      <td>71053</td>\n",
       "      <td>WHITE METAL LANTERN</td>\n",
       "      <td>6</td>\n",
       "      <td>3.39</td>\n",
       "      <td>17850</td>\n",
       "      <td>United Kingdom</td>\n",
       "      <td>2010-12-01 08:26:00</td>\n",
       "      <td>20.34</td>\n",
       "    </tr>\n",
       "    <tr>\n",
       "      <th>2010-12-01 08:26:00</th>\n",
       "      <td>536365</td>\n",
       "      <td>84406B</td>\n",
       "      <td>CREAM CUPID HEARTS COAT HANGER</td>\n",
       "      <td>8</td>\n",
       "      <td>2.75</td>\n",
       "      <td>17850</td>\n",
       "      <td>United Kingdom</td>\n",
       "      <td>2010-12-01 08:26:00</td>\n",
       "      <td>22.00</td>\n",
       "    </tr>\n",
       "    <tr>\n",
       "      <th>2010-12-01 08:26:00</th>\n",
       "      <td>536365</td>\n",
       "      <td>84029G</td>\n",
       "      <td>KNITTED UNION FLAG HOT WATER BOTTLE</td>\n",
       "      <td>6</td>\n",
       "      <td>3.39</td>\n",
       "      <td>17850</td>\n",
       "      <td>United Kingdom</td>\n",
       "      <td>2010-12-01 08:26:00</td>\n",
       "      <td>20.34</td>\n",
       "    </tr>\n",
       "    <tr>\n",
       "      <th>2010-12-01 08:26:00</th>\n",
       "      <td>536365</td>\n",
       "      <td>84029E</td>\n",
       "      <td>RED WOOLLY HOTTIE WHITE HEART.</td>\n",
       "      <td>6</td>\n",
       "      <td>3.39</td>\n",
       "      <td>17850</td>\n",
       "      <td>United Kingdom</td>\n",
       "      <td>2010-12-01 08:26:00</td>\n",
       "      <td>20.34</td>\n",
       "    </tr>\n",
       "  </tbody>\n",
       "</table>\n",
       "</div>"
      ],
      "text/plain": [
       "                    InvoiceNo StockCode                          Description  \\\n",
       "InvoiceDate                                                                    \n",
       "2010-12-01 08:26:00    536365    85123A   WHITE HANGING HEART T-LIGHT HOLDER   \n",
       "2010-12-01 08:26:00    536365     71053                  WHITE METAL LANTERN   \n",
       "2010-12-01 08:26:00    536365    84406B       CREAM CUPID HEARTS COAT HANGER   \n",
       "2010-12-01 08:26:00    536365    84029G  KNITTED UNION FLAG HOT WATER BOTTLE   \n",
       "2010-12-01 08:26:00    536365    84029E       RED WOOLLY HOTTIE WHITE HEART.   \n",
       "\n",
       "                     Quantity  UnitPrice CustomerID         Country  \\\n",
       "InvoiceDate                                                           \n",
       "2010-12-01 08:26:00         6       2.55      17850  United Kingdom   \n",
       "2010-12-01 08:26:00         6       3.39      17850  United Kingdom   \n",
       "2010-12-01 08:26:00         8       2.75      17850  United Kingdom   \n",
       "2010-12-01 08:26:00         6       3.39      17850  United Kingdom   \n",
       "2010-12-01 08:26:00         6       3.39      17850  United Kingdom   \n",
       "\n",
       "                               FullDate  TotalPrice  \n",
       "InvoiceDate                                          \n",
       "2010-12-01 08:26:00 2010-12-01 08:26:00       15.30  \n",
       "2010-12-01 08:26:00 2010-12-01 08:26:00       20.34  \n",
       "2010-12-01 08:26:00 2010-12-01 08:26:00       22.00  \n",
       "2010-12-01 08:26:00 2010-12-01 08:26:00       20.34  \n",
       "2010-12-01 08:26:00 2010-12-01 08:26:00       20.34  "
      ]
     },
     "execution_count": 34,
     "metadata": {},
     "output_type": "execute_result"
    }
   ],
   "source": [
    "online_retail_df.head()"
   ]
  },
  {
   "cell_type": "markdown",
   "metadata": {},
   "source": [
    "## Data Exploration"
   ]
  },
  {
   "cell_type": "markdown",
   "metadata": {},
   "source": [
    "Let’s start the data exploration phase with density plots and scatter plot matrix. \n",
    "\n",
    "A density plot is a graphical representation of the distribution of a continuous data which estimates the probability distribution. The x-axis represents the bins, which embodies a range of values and the y-axis represents the probability density of the corresponding bin. The density plots give a greater understanding of how the variables are measured.\n",
    "\n",
    "A scatter plot is a graph representing a sequence of numerical data pairs, with one variable on each axis, to look for a relationship between them and show how much one variable affects the other. If the variables are associated with each other, the points fall into a line or curve. More the relation among the variables, closer the dots are on the graph."
   ]
  },
  {
   "cell_type": "code",
   "execution_count": 35,
   "metadata": {},
   "outputs": [
    {
     "data": {
      "image/png": "[encoded data removed]",
      "text/plain": [
       "<Figure size 1440x720 with 9 Axes>"
      ]
     },
     "metadata": {
      "needs_background": "light"
     },
     "output_type": "display_data"
    }
   ],
   "source": [
    "fig, axes = plt.subplots(3, 3, figsize=(20, 10))\n",
    "\n",
    "sns.kdeplot(online_retail_df['UnitPrice'], bw=1, ax=axes[0, 0])\n",
    "sns.kdeplot(online_retail_df['Quantity'], bw=3, ax=axes[1, 1])\n",
    "sns.kdeplot(online_retail_df['TotalPrice'], bw=3, ax=axes[2, 2])\n",
    "\n",
    "sns.scatterplot(x=\"UnitPrice\", y=\"Quantity\", palette=\"ch:r=-.2,d=.3_r\", sizes=(1, 8), linewidth=0, data=online_retail_df, ax=axes[1, 0])\n",
    "sns.scatterplot(x=\"UnitPrice\", y=\"TotalPrice\", palette=\"ch:r=-.2,d=.3_r\", sizes=(1, 8), linewidth=0, data=online_retail_df, ax=axes[2, 0])\n",
    "\n",
    "sns.scatterplot(x=\"UnitPrice\", y=\"Quantity\", palette=\"ch:r=-.2,d=.3_r\", sizes=(1, 8), linewidth=0, data=online_retail_df, ax=axes[0, 1])\n",
    "sns.scatterplot(x=\"TotalPrice\", y=\"Quantity\", palette=\"ch:r=-.2,d=.3_r\", sizes=(1, 8), linewidth=0, data=online_retail_df, ax=axes[2, 1])\n",
    "\n",
    "sns.scatterplot(x=\"UnitPrice\", y=\"TotalPrice\", palette=\"ch:r=-.2,d=.3_r\", sizes=(1, 8), linewidth=0, data=online_retail_df, ax=axes[0, 2])                \n",
    "sns.scatterplot(x=\"Quantity\", y=\"TotalPrice\", palette=\"ch:r=-.2,d=.3_r\", sizes=(1, 8), linewidth=0, data=online_retail_df, ax=axes[1, 2])\n",
    "\n",
    "# Title and labels\n",
    "plt.suptitle(\"Scatter Plot Matrix and Probability Density Distribution\", fontsize=14)\n",
    "axes[0, 1].set_ylabel('')\n",
    "axes[0, 2].set_ylabel('')\n",
    "axes[1, 2].set_ylabel('')\n",
    "axes[2, 1].set_ylabel('')\n",
    "\n",
    "axes[0, 1].set_xlabel('')\n",
    "axes[0, 2].set_xlabel('')\n",
    "axes[1, 0].set_xlabel('')\n",
    "axes[1, 2].set_xlabel('')\n",
    "\n",
    "axes[0, 0].set_ylabel('UnitPrice')\n",
    "axes[2, 1].set_xlabel('Quantity')\n",
    "axes[2, 2].set_xlabel('TotalPrice')\n",
    "\n",
    "plt.show(fig)\n",
    "fig.savefig('pairplot.png', dpi=300)"
   ]
  },
  {
   "cell_type": "code",
   "execution_count": 36,
   "metadata": {},
   "outputs": [
    {
     "data": {
      "image/png": "[encoded data removed]",
      "text/plain": [
       "<Figure size 720x432 with 2 Axes>"
      ]
     },
     "metadata": {
      "needs_background": "light"
     },
     "output_type": "display_data"
    }
   ],
   "source": [
    "fig, ax = plt.subplots(figsize=(10, 6))\n",
    "ax = sns.heatmap(online_retail_df.corr(),\n",
    "            vmin=-1,\n",
    "            vmax=1,\n",
    "            linewidths=0.5, \n",
    "            cmap='RdBu_r',\n",
    "           annot=True\n",
    "           )\n",
    "plt.show(fig)\n",
    "fig.savefig('corr_heatmap.png', dpi=300)"
   ]
  },
  {
   "cell_type": "markdown",
   "metadata": {},
   "source": [
    "Among the variable distributions (UnitPrice, Quantity and TotalPrice) as shown in the above figure, the first intuition that can be derived is that they do not follow a standard guassian/normal distribution. The distribution of the rv-functions TotalPrice and Quantity are heavily skewed on the right and follow Weibull distribution. A log-transformation on these variables can casue the distribution to change shape and become less skewed. Eventhough, both these variables follow same distribution, 'Quantity' has higher variance when compared to 'Total Price'. At the same time, the rv-function 'UnitPrice' follows almost a normal distribution with higher variance and a little positve skewness.\n",
    "\n",
    "Let us understand the scatter plot and the correlation heatmap of the continuos rv-functions. The variable 'UnitPrice' is highly correlated the attribute 'TotalPrice'. Generally it may not be clear that, there is a causal relationship between the variables with high correlation. However, in this case the increase in the value of rv-function 'Quantity' has a direct causal impact on the rv-function 'TotalPrice'. The correlation between the variables UnitPrice and Quantity, and the variables UnitPrice and TotalPrice are significantly low. However, it is suprsing to see less correlation between the variables UnitPrice and TotalPrice, eventhough there exists a casual relationship between them. The diagonal values in the correlation heat map diagram are equal to 1, since it represents the correlation between the same attributes."
   ]
  },
  {
   "cell_type": "markdown",
   "metadata": {},
   "source": [
    "## Discrete variable distribution"
   ]
  },
  {
   "cell_type": "markdown",
   "metadata": {},
   "source": [
    "### Top 10 Countries by Sales Volume and Revenue"
   ]
  },
  {
   "cell_type": "markdown",
   "metadata": {},
   "source": [
    "Let's now start looking at the distributions of discrete variables in our dataset. First, we will take a look at the top 10 countries by the volume of transactions. The dataset contains 35 countries to which customers belong. The idea is to aggregate the records by countries and count the number of transactions occurred in each country, then sort the resulting dataframe in descending order of their sales volume. We can do the same thing to obtain the top 10 countries by the revenue generated from the transactions. The chart of top 10 countries by their sales volume and revenue are as shown in the below figures."
   ]
  },
  {
   "cell_type": "code",
   "execution_count": 37,
   "metadata": {},
   "outputs": [],
   "source": [
    "# Number of transactions by country\n",
    "numTransactionsByCountry = online_retail_df[['CustomerID', 'Country']].groupby('Country').count()\n",
    "numTransactionsByCountry.rename({'CustomerID': 'NumberOfCustomers'}, axis=1, inplace=True)\n",
    "numTransactionsByCountry = numTransactionsByCountry.sort_values(['NumberOfCustomers'], ascending=[False])[:10]"
   ]
  },
  {
   "cell_type": "code",
   "execution_count": 38,
   "metadata": {
    "scrolled": true
   },
   "outputs": [],
   "source": [
    "# Revenue by country\n",
    "revenueByCountry = online_retail_df[['TotalPrice', 'Country']].groupby('Country').sum()\n",
    "revenueByCountry.rename({'TotalPrice': 'TotalRevenue'}, axis=1, inplace=True)\n",
    "revenueByCountry = revenueByCountry.sort_values(['TotalRevenue'], ascending=[False])[:10]"
   ]
  },
  {
   "cell_type": "code",
   "execution_count": 39,
   "metadata": {},
   "outputs": [],
   "source": [
    "temp_df = online_retail_df[online_retail_df['Country']!='United Kingdom']\n",
    "numTransactionsByCountry = temp_df[['TotalPrice', 'Country']].groupby('Country').sum()\n",
    "numTransactionsByCountry.rename({'TotalPrice': 'TotalRevenue'}, axis=1, inplace=True)\n",
    "numTransactionsByCountry = numTransactionsByCountry.sort_values(['TotalRevenue'], ascending=[False])[:10]"
   ]
  },
  {
   "cell_type": "code",
   "execution_count": 40,
   "metadata": {
    "scrolled": true
   },
   "outputs": [
    {
     "data": {
      "image/png": "[encoded data removed]",
      "text/plain": [
       "<Figure size 1872x576 with 2 Axes>"
      ]
     },
     "metadata": {
      "needs_background": "light"
     },
     "output_type": "display_data"
    }
   ],
   "source": [
    "fig, axes = plt.subplots(1, 2, figsize=(26,8))\n",
    "\n",
    "sns.barplot(x = revenueByCountry.index , y = revenueByCountry['TotalRevenue'], \n",
    "            estimator=max, ax=axes[0])\n",
    "\n",
    "sns.barplot(x = numTransactionsByCountry.index , y = numTransactionsByCountry['TotalRevenue'], \n",
    "            estimator=max, ax=axes[1])\n",
    "\n",
    "# Title and labels\n",
    "axes[0].set_xlabel('Countries')\n",
    "axes[0].set_ylabel('Total Revenue')\n",
    "axes[0].set_title(\"Top 10 Countries by Total Revenue\", fontsize=14)\n",
    "\n",
    "axes[1].set_xlabel(\"Countries\")\n",
    "axes[1].set_ylabel(\"Total Revenue\")\n",
    "axes[1].set_title(\"Top 10 Countries by Total Revenue excluding UK\", fontsize=14)\n",
    "\n",
    "plt.show(fig)\n",
    "\n",
    "fig.savefig('top10countries.png', dpi=300)"
   ]
  },
  {
   "cell_type": "markdown",
   "metadata": {},
   "source": [
    "The charts of top 10 countries by sales volume and revenue shows that for this company by far the highest contribution to its sales and revenue comes from United Kingdom, which is showing its local success. Since most of the revenue comes from UK customers and very less revenue is from countries other than UK, it does not give any clustering related insight for each country. If clustering is the goal, then it is easier to mark all non-UK countries as \"nonUK\" instead of having 35 separate country variable labels. "
   ]
  },
  {
   "cell_type": "markdown",
   "metadata": {},
   "source": [
    "### Top 10 Best Selling Stocks by Earnings"
   ]
  },
  {
   "cell_type": "markdown",
   "metadata": {},
   "source": [
    "Now we're going to look at the top 10 selling items by the amount of revenue they generate. The first step to get this data is to aggregate the records by the countries and sum up the Total Price of each transaction. I have used bar plots for showing this distribution as seen in the below figure."
   ]
  },
  {
   "cell_type": "code",
   "execution_count": 41,
   "metadata": {},
   "outputs": [],
   "source": [
    "top10stock = online_retail_df[['StockCode', 'TotalPrice']].groupby('StockCode').sum().nlargest(10,['TotalPrice']).reset_index()"
   ]
  },
  {
   "cell_type": "code",
   "execution_count": 42,
   "metadata": {},
   "outputs": [
    {
     "data": {
      "image/png": "[encoded data removed]",
      "text/plain": [
       "<Figure size 1440x720 with 1 Axes>"
      ]
     },
     "metadata": {
      "needs_background": "light"
     },
     "output_type": "display_data"
    }
   ],
   "source": [
    "# Initialize the plot\n",
    "fig, axes = plt.subplots(figsize=(20,10))\n",
    "\n",
    "sns.barplot(data = top10stock ,x = 'StockCode' ,y = 'TotalPrice', estimator=max, ax=axes)\n",
    "\n",
    "# Title and labels\n",
    "axes.set_xlabel('Stock Codes')\n",
    "axes.set_ylabel('Revenue')\n",
    "axes.set_title(\"Top 10 Best Selling Products\", fontsize=14)\n",
    "\n",
    "plt.show(fig)\n",
    "fig.savefig('top10stocks.png', dpi=300)"
   ]
  },
  {
   "cell_type": "code",
   "execution_count": 43,
   "metadata": {},
   "outputs": [
    {
     "data": {
      "text/plain": [
       "array(['WHITE HANGING HEART T-LIGHT HOLDER',\n",
       "       'CREAM HANGING HEART T-LIGHT HOLDER'], dtype=object)"
      ]
     },
     "execution_count": 43,
     "metadata": {},
     "output_type": "execute_result"
    }
   ],
   "source": [
    "online_retail_df.loc[online_retail_df[\"StockCode\"]==\"85123A\"][\"Description\"].unique()"
   ]
  },
  {
   "cell_type": "markdown",
   "metadata": {},
   "source": [
    "The above barplot of top-10 selling products by revenue suggests that the products have their revenue skewed positively, meaning there are higher values which make the distribution of revenues skewed to the right. The graph reveals that the number one selling item is 'WHITE/CREAM HANGING HEART T-LIGHT Keeper' whose stock-code is '85123A'."
   ]
  },
  {
   "cell_type": "markdown",
   "metadata": {},
   "source": [
    "### Customer distribution by Revenue"
   ]
  },
  {
   "cell_type": "markdown",
   "metadata": {},
   "source": [
    "CustomerID is another important discrete rv-function, from which we can get to know the distribution of Customers by the amount of money they contribute to the overall revenue of the company. This can be understood from the below histogram."
   ]
  },
  {
   "cell_type": "code",
   "execution_count": 44,
   "metadata": {},
   "outputs": [],
   "source": [
    "# Number of transactions by country\n",
    "revenueByCustomer = online_retail_df[['CustomerID', 'TotalPrice']].groupby('CustomerID').sum()\n",
    "revenueByCustomer.rename({'TotalPrice': 'Revenue'}, axis=1, inplace=True)"
   ]
  },
  {
   "cell_type": "code",
   "execution_count": 45,
   "metadata": {},
   "outputs": [
    {
     "name": "stdout",
     "output_type": "stream",
     "text": [
      "Total number of unique Customers is 4211\n",
      "Total number of unique customers with revenue less than 2500 is 3785\n"
     ]
    }
   ],
   "source": [
    "print(\"Total number of unique Customers is {}\".format(revenueByCustomer['Revenue'].count()))\n",
    "print(\"Total number of unique customers with revenue less than 2500 is {}\".format(revenueByCustomer[revenueByCustomer['Revenue']<2500].count()[0]))"
   ]
  },
  {
   "cell_type": "code",
   "execution_count": 46,
   "metadata": {},
   "outputs": [
    {
     "data": {
      "image/png": "[encoded data removed]",
      "text/plain": [
       "<Figure size 720x576 with 1 Axes>"
      ]
     },
     "metadata": {
      "needs_background": "light"
     },
     "output_type": "display_data"
    }
   ],
   "source": [
    "bins = [0, 500, 1000, 2000, 3000, 5000, 7500, 10000]\n",
    "\n",
    "fig, axes = plt.subplots(figsize=(10,8))\n",
    "# sns.distplot(revenueByCustomer, bins=bins, kde=False, color='navy' ,ax=axes)\n",
    "revenueByCustomer['Revenue'].hist(bins=bins, ax=axes)\n",
    "\n",
    "# Title and labels\n",
    "axes.set_xlabel('Revenue')\n",
    "axes.set_ylabel('Frequency')\n",
    "axes.set_title(\"Histogram of Revenue by Customer\", fontsize=14)\n",
    "\n",
    "plt.show(fig)\n",
    "fig.savefig('revenuebyCustomer.png', dpi=300)"
   ]
  },
  {
   "cell_type": "markdown",
   "metadata": {},
   "source": [
    "The above histogram of customers by revenue outlines the distribution of customers on the basis of amount of money they spend on the purchase of products from the company. From the positive skewness of the plot it is safe to assume that there are lot of customers in the range of 0-1000 Sterling revenue. Outlier exists in the higher ranges of the revenue. Out of total 4211 unique customers who contribute to the overall revenue of the company, there are 3785 customers whose individual contribution is between 0-2500 Sterling."
   ]
  },
  {
   "cell_type": "markdown",
   "metadata": {},
   "source": [
    "## Time Series"
   ]
  },
  {
   "cell_type": "markdown",
   "metadata": {},
   "source": [
    "### Revenue over Time"
   ]
  },
  {
   "cell_type": "code",
   "execution_count": 47,
   "metadata": {},
   "outputs": [],
   "source": [
    "# df for time series analysis of 5 countries by their total revenue\n",
    "sales_df = online_retail_df\n",
    "sales_df['Month'] = online_retail_df['FullDate'].dt.month\n",
    "sales_df_grouped = sales_df[['Month','InvoiceNo', 'Country']].groupby(['Month','Country']).count().sort_values(['InvoiceNo'], ascending=[False])\n",
    "sales_df_grouped.reset_index(inplace=True)\n",
    "countries = ['United Kingdom', 'Germany', 'France', 'Spain', 'Belgium']\n",
    "sales_df_grouped = sales_df_grouped[sales_df_grouped.Country.isin(countries)].sort_values('Month')"
   ]
  },
  {
   "cell_type": "code",
   "execution_count": 48,
   "metadata": {},
   "outputs": [
    {
     "data": {
      "image/png": "[encoded data removed]",
      "text/plain": [
       "<Figure size 576x432 with 1 Axes>"
      ]
     },
     "metadata": {
      "needs_background": "light"
     },
     "output_type": "display_data"
    }
   ],
   "source": [
    "# Initialize the plot\n",
    "fig, axes = plt.subplots(figsize=(8, 6))\n",
    "\n",
    "sns.lineplot(x=sales_df_grouped['Month'], \n",
    "                 y=sales_df_grouped['InvoiceNo'],\n",
    "                 hue=sales_df_grouped['Country'], ax=axes\n",
    "                )\n",
    "\n",
    "# Title and labels\n",
    "axes.set_xlabel('Months')\n",
    "axes.set_ylabel('Sales Volume')\n",
    "axes.set_title(\"Country wise Time Series Plot by Sales Volume\", fontsize=14)\n",
    "\n",
    "plt.show()"
   ]
  },
  {
   "cell_type": "code",
   "execution_count": 49,
   "metadata": {},
   "outputs": [],
   "source": [
    "# df for time series analysis of 5 countries by their total revenue\n",
    "tmp_df = online_retail_df\n",
    "tmp_df['Month'] = online_retail_df['FullDate'].dt.month\n",
    "tmp_df_grouped = tmp_df[['Month','TotalPrice', 'Country']].groupby(['Month','Country']).sum().sort_values(['TotalPrice'], ascending=[False])\n",
    "tmp_df_grouped.reset_index(inplace=True)\n",
    "countries = ['United Kingdom', 'Germany', 'France', 'Spain', 'Belgium']\n",
    "tmp_df_grouped = tmp_df_grouped[tmp_df_grouped.Country.isin(countries)].sort_values('Month')"
   ]
  },
  {
   "cell_type": "code",
   "execution_count": 50,
   "metadata": {},
   "outputs": [],
   "source": [
    "countries = ['Germany', 'France', 'Spain', 'Belgium', 'EIRE']\n",
    "tmp_df_grouped2 = tmp_df_grouped[tmp_df_grouped.Country.isin(countries)].sort_values('Month')"
   ]
  },
  {
   "cell_type": "code",
   "execution_count": null,
   "metadata": {},
   "outputs": [],
   "source": [
    "# # Initialize the plot\n",
    "# fig, axes = plt.subplots(figsize=(12, 8))\n",
    "\n",
    "# sns.lineplot(x=tmp_df_grouped['Month'], \n",
    "#                  y=tmp_df_grouped['TotalPrice'], estimator=max, ax=axes)\n",
    "\n",
    "# # Title and labels\n",
    "# axes.set_xlabel('Months')\n",
    "# axes.set_ylabel('Revenue')\n",
    "# axes.set_title(\"Country wise Time Series Plot by Revenue\", fontsize=14)\n",
    "\n",
    "# plt.show()"
   ]
  },
  {
   "cell_type": "code",
   "execution_count": 51,
   "metadata": {},
   "outputs": [
    {
     "data": {
      "image/png": "[encoded data removed]",
      "text/plain": [
       "<Figure size 1440x576 with 2 Axes>"
      ]
     },
     "metadata": {
      "needs_background": "light"
     },
     "output_type": "display_data"
    }
   ],
   "source": [
    "# Initialize the plot\n",
    "fig, axes = plt.subplots(1, 2, figsize=(20, 8))\n",
    "\n",
    "sns.lineplot(x=tmp_df_grouped['Month'], \n",
    "                 y=tmp_df_grouped['TotalPrice'],\n",
    "                 hue=tmp_df_grouped['Country'], ax=axes[0])\n",
    "\n",
    "sns.lineplot(x=tmp_df_grouped2['Month'], \n",
    "                 y=tmp_df_grouped2['TotalPrice'],\n",
    "                 hue=tmp_df_grouped2['Country'], ax=axes[1])\n",
    "\n",
    "# Title and labels\n",
    "axes[0].set_xlabel('Months')\n",
    "axes[0].set_ylabel('Sales Volume')\n",
    "axes[0].set_title(\"Country wise Time Series Plot by Revenue\", fontsize=14)\n",
    "\n",
    "axes[1].set_xlabel('Months')\n",
    "axes[1].set_ylabel('Revenue')\n",
    "axes[1].set_title(\"Country wise Time Series Plot by Revenue without UK\", fontsize=14)\n",
    "\n",
    "plt.show()\n",
    "fig.savefig('timeSeriesbyCountry.png', dpi=300)"
   ]
  },
  {
   "cell_type": "code",
   "execution_count": 52,
   "metadata": {},
   "outputs": [
    {
     "data": {
      "image/png": "[encoded data removed]",
      "text/plain": [
       "<Figure size 1080x288 with 1 Axes>"
      ]
     },
     "metadata": {
      "needs_background": "light"
     },
     "output_type": "display_data"
    }
   ],
   "source": [
    "# Initialize the plot\n",
    "fig, axes = plt.subplots(figsize=(12, 8))\n",
    "\n",
    "online_retail_df[[\"TotalPrice\"]].resample(\"W\").median().plot(figsize=(15,4), ax=axes)\n",
    "\n",
    "# Title and labels\n",
    "axes.set_xlabel('Time')\n",
    "axes.set_ylabel('Total Revenue')\n",
    "axes.set_title(\"Weekly Time Series Plot by Total Revenue\", fontsize=14)\n",
    "plt.legend()\n",
    "plt.show()\n",
    "fig.savefig('timeSeriesoverall.png', dpi=300)"
   ]
  },
  {
   "cell_type": "markdown",
   "metadata": {},
   "source": [
    "Here we will calculate the monthly total revenue of the company and revenue from top 5 countries by their respective revenue value. All in all Sales and Revenue show a positive trend over the period. As seen in time series plot of Revenue vs Time, revenue has been flat most of the time beginning in 2011, but lately there is a upward trend in the last 3 months. The revenue has been picking up for the last 2-3 months during the year. Last month 's data is partial and not complete 30 days as a result of which there is slight fall in revenue. Trend is very similar for both the revenue per month and the sales volume per month. This means that sales volume is a good indicator of the revenue trend. There is an upward trend in the graph without the UK."
   ]
  },
  {
   "cell_type": "markdown",
   "metadata": {},
   "source": [
    "## Busiest hours of a day and Busiest day of a week by Sales Volume"
   ]
  },
  {
   "cell_type": "markdown",
   "metadata": {},
   "source": [
    "Knowing which days of the week or even which hours of the day shoppers are likely to purchase from the company's online store can help the business management to make better decisions in providing customer service and optimizing their operations. So, let's explore on which days the sales are high and at what hours of the day."
   ]
  },
  {
   "cell_type": "code",
   "execution_count": 53,
   "metadata": {},
   "outputs": [],
   "source": [
    "# busiest hour of a day\n",
    "busy_hours = online_retail_df.groupby(online_retail_df['FullDate'].dt.hour)['Quantity'].sum().reset_index()\n",
    "busy_hours.rename({'FullDate': 'Hour'}, axis=1, inplace=True)"
   ]
  },
  {
   "cell_type": "code",
   "execution_count": 54,
   "metadata": {},
   "outputs": [
    {
     "data": {
      "image/png": "[encoded data removed]",
      "text/plain": [
       "<Figure size 1152x576 with 1 Axes>"
      ]
     },
     "metadata": {
      "needs_background": "light"
     },
     "output_type": "display_data"
    }
   ],
   "source": [
    "# Initialize the plot\n",
    "fig, axes = plt.subplots(figsize=(16, 8))\n",
    "\n",
    "sns.barplot(x=busy_hours['Hour'], y=busy_hours['Quantity'] ,ax=axes)\n",
    "\n",
    "# Title and labels\n",
    "axes.set_xlabel('Hours of a Day')\n",
    "axes.set_ylabel('Sales Volume')\n",
    "axes.set_title(\"Busiest hour of the day\", fontsize=14)\n",
    "\n",
    "plt.show(fig)\n",
    "fig.savefig('busiestHour.png', dpi=300)"
   ]
  },
  {
   "cell_type": "markdown",
   "metadata": {},
   "source": [
    "The busiest hour of the day is around 12 pm for sales volume. The hourly data, of course, is related trend of the sales in each day. The sales rate started to rise as early as7:00 a.m., peaked at the noon and nearly leveled of until about 3:00 p.m., before falling again in the night. The time period between 10:00 a.m. and 3:00 p.m. are prime time for the sales."
   ]
  },
  {
   "cell_type": "code",
   "execution_count": 55,
   "metadata": {},
   "outputs": [
    {
     "data": {
      "text/plain": [
       "array([2, 3, 4, 6, 0, 1], dtype=int64)"
      ]
     },
     "execution_count": 55,
     "metadata": {},
     "output_type": "execute_result"
    }
   ],
   "source": [
    "online_retail_df['FullDate'].dt.weekday.unique()"
   ]
  },
  {
   "cell_type": "code",
   "execution_count": 56,
   "metadata": {},
   "outputs": [],
   "source": [
    "# busiest day of a week\n",
    "busy_days = online_retail_df.groupby(online_retail_df['FullDate'].dt.weekday)['Quantity'].sum().reset_index()\n",
    "busy_days.rename({'FullDate': 'DayOfWeek'}, axis=1, inplace=True)\n",
    "# convert days of a week from integer to string\n",
    "days = {0:'Monday',1:'Tuesday',2:'Wednesday',3:'Thursday',4:'Friday',5:'Saturday',6:'Sunday'}\n",
    "busy_days['DayOfWeek'] = busy_days['DayOfWeek'].apply(lambda x: days[x])"
   ]
  },
  {
   "cell_type": "code",
   "execution_count": 57,
   "metadata": {},
   "outputs": [
    {
     "data": {
      "image/png": "[encoded data removed]",
      "text/plain": [
       "<Figure size 1152x576 with 1 Axes>"
      ]
     },
     "metadata": {
      "needs_background": "light"
     },
     "output_type": "display_data"
    }
   ],
   "source": [
    "# Initialize the plot\n",
    "fig, axes = plt.subplots(figsize=(16, 8))\n",
    "\n",
    "sns.barplot(x=busy_days['DayOfWeek'], y=busy_days['Quantity'],ax=axes)\n",
    "\n",
    "# Title and labels\n",
    "axes.set_xlabel('Days of a Week')\n",
    "axes.set_ylabel('Sales Volume')\n",
    "axes.set_title(\"Busiest day of the week\", fontsize=14)\n",
    "\n",
    "plt.show(fig)\n",
    "fig.savefig('busiestDayofWeek.png', dpi=300)"
   ]
  },
  {
   "cell_type": "code",
   "execution_count": null,
   "metadata": {},
   "outputs": [],
   "source": [
    "# pd.plotting.autocorrelation_plot(online_retail_df[\"TotalPrice\"].resample(\"SM\").median())"
   ]
  },
  {
   "cell_type": "markdown",
   "metadata": {},
   "source": [
    "The plot shown in the above figure suggests that the sales occur more often over the weekdays than over the weekend. On average, the highest sales occur on Thursdays and remains nearly flat for rest of the days in the week. It can be noticed that, there are no transactions on Saturday. It means the online store may not be available on Saturday or the data is missing in the dataset for Saturday. The seasonality can be clearly observed in the sales over a week. As Thursday approaches, average sales slowly increase, and decrease after Thursday."
   ]
  }
 ],
 "metadata": {
  "kernelspec": {
   "display_name": "Python 3",
   "language": "python",
   "name": "python3"
  },
  "language_info": {
   "codemirror_mode": {
    "name": "ipython",
    "version": 3
   },
   "file_extension": ".py",
   "mimetype": "text/x-python",
   "name": "python",
   "nbconvert_exporter": "python",
   "pygments_lexer": "ipython3",
   "version": "3.7.4"
  }
 },
 "nbformat": 4,
 "nbformat_minor": 2
}
